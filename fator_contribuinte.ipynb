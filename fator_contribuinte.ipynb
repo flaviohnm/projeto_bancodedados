{
  "nbformat": 4,
  "nbformat_minor": 0,
  "metadata": {
    "colab": {
      "name": "fatorcontribuinte.ipynb",
      "provenance": [],
      "collapsed_sections": [],
      "include_colab_link": true
    },
    "kernelspec": {
      "name": "python3",
      "display_name": "Python 3"
    },
    "language_info": {
      "name": "python"
    }
  },
  "cells": [
    {
      "cell_type": "markdown",
      "metadata": {
        "id": "view-in-github",
        "colab_type": "text"
      },
      "source": [
        "<a href=\"https://colab.research.google.com/github/flaviohnm/projeto_bancodedados/blob/main/fator_contribuinte.ipynb\" target=\"_parent\"><img src=\"https://colab.research.google.com/assets/colab-badge.svg\" alt=\"Open In Colab\"/></a>"
      ]
    },
    {
      "cell_type": "code",
      "source": [
        "from google.colab import drive\n",
        "drive.mount('/content/drive')"
      ],
      "metadata": {
        "id": "2B3pqtsM6w8E",
        "outputId": "47ad9380-2f85-4957-8412-4bbec871fbed",
        "colab": {
          "base_uri": "https://localhost:8080/"
        }
      },
      "execution_count": 2,
      "outputs": [
        {
          "output_type": "stream",
          "name": "stdout",
          "text": [
            "Drive already mounted at /content/drive; to attempt to forcibly remount, call drive.mount(\"/content/drive\", force_remount=True).\n"
          ]
        }
      ]
    },
    {
      "cell_type": "markdown",
      "source": [
        "#Instalação do módulos"
      ],
      "metadata": {
        "id": "hTzBSqsEfBmc"
      }
    },
    {
      "cell_type": "code",
      "execution_count": 3,
      "metadata": {
        "colab": {
          "base_uri": "https://localhost:8080/"
        },
        "id": "_zpHxd1ievvg",
        "outputId": "f662c94c-1e85-4f6a-b2d4-76a6ea4d58d1"
      },
      "outputs": [
        {
          "output_type": "stream",
          "name": "stdout",
          "text": [
            "Looking in indexes: https://pypi.org/simple, https://us-python.pkg.dev/colab-wheels/public/simple/\n",
            "Collecting pandera\n",
            "  Downloading pandera-0.9.0-py3-none-any.whl (197 kB)\n",
            "\u001b[K     |████████████████████████████████| 197 kB 8.6 MB/s \n",
            "\u001b[?25hRequirement already satisfied: pydantic in /usr/local/lib/python3.7/dist-packages (from pandera) (1.8.2)\n",
            "Requirement already satisfied: typing-extensions>=3.7.4.3 in /usr/local/lib/python3.7/dist-packages (from pandera) (4.1.1)\n",
            "Requirement already satisfied: numpy>=1.9.0 in /usr/local/lib/python3.7/dist-packages (from pandera) (1.21.6)\n",
            "Requirement already satisfied: pandas>=1.0 in /usr/local/lib/python3.7/dist-packages (from pandera) (1.3.5)\n",
            "Requirement already satisfied: packaging>=20.0 in /usr/local/lib/python3.7/dist-packages (from pandera) (21.3)\n",
            "Requirement already satisfied: pyarrow in /usr/local/lib/python3.7/dist-packages (from pandera) (6.0.1)\n",
            "Collecting typing-inspect>=0.6.0\n",
            "  Downloading typing_inspect-0.7.1-py3-none-any.whl (8.4 kB)\n",
            "Requirement already satisfied: wrapt in /usr/local/lib/python3.7/dist-packages (from pandera) (1.14.1)\n",
            "Requirement already satisfied: pyparsing!=3.0.5,>=2.0.2 in /usr/local/lib/python3.7/dist-packages (from packaging>=20.0->pandera) (3.0.9)\n",
            "Requirement already satisfied: python-dateutil>=2.7.3 in /usr/local/lib/python3.7/dist-packages (from pandas>=1.0->pandera) (2.8.2)\n",
            "Requirement already satisfied: pytz>=2017.3 in /usr/local/lib/python3.7/dist-packages (from pandas>=1.0->pandera) (2022.1)\n",
            "Requirement already satisfied: six>=1.5 in /usr/local/lib/python3.7/dist-packages (from python-dateutil>=2.7.3->pandas>=1.0->pandera) (1.15.0)\n",
            "Collecting mypy-extensions>=0.3.0\n",
            "  Downloading mypy_extensions-0.4.3-py2.py3-none-any.whl (4.5 kB)\n",
            "Installing collected packages: mypy-extensions, typing-inspect, pandera\n",
            "Successfully installed mypy-extensions-0.4.3 pandera-0.9.0 typing-inspect-0.7.1\n"
          ]
        }
      ],
      "source": [
        "pip install pandera"
      ]
    },
    {
      "cell_type": "markdown",
      "source": [
        "#Bloco de Extração"
      ],
      "metadata": {
        "id": "X7i63GjYfOCS"
      }
    },
    {
      "cell_type": "code",
      "source": [
        "import pandas as pd\n",
        "import pandera as pa"
      ],
      "metadata": {
        "id": "AYtx3raGfPOn"
      },
      "execution_count": 4,
      "outputs": []
    },
    {
      "cell_type": "code",
      "source": [
        "df = pd.read_csv(\"/content/drive/MyDrive/CENIPA/fator_contribuinte.csv\",sep=\";\",parse_dates=['fator_nome'],dayfirst=True)"
      ],
      "metadata": {
        "id": "xf68fXKWgFOh"
      },
      "execution_count": 6,
      "outputs": []
    },
    {
      "cell_type": "markdown",
      "source": [
        "## O comando \"head\" exibe a quantidade de linhas contida no parentesis."
      ],
      "metadata": {
        "id": "EN3BJRDJgUbh"
      }
    },
    {
      "cell_type": "code",
      "source": [
        "df.head(10)"
      ],
      "metadata": {
        "colab": {
          "base_uri": "https://localhost:8080/",
          "height": 494
        },
        "id": "muIiQgRRgVt-",
        "outputId": "ddef0df5-f42b-4ab2-e224-fb8f36986c32"
      },
      "execution_count": 7,
      "outputs": [
        {
          "output_type": "execute_result",
          "data": {
            "text/plain": [
              "   codigo_ocorrencia3                    fator_nome             fator_aspecto  \\\n",
              "0               45331         APLICAÇÃO DE COMANDOS  DESEMPENHO DO SER HUMANO   \n",
              "1               45331                       ATENÇÃO       ASPECTO PSICOLÓGICO   \n",
              "2               45331     CAPACITAÇÃO E TREINAMENTO       ASPECTO PSICOLÓGICO   \n",
              "3               45331          CLIMA ORGANIZACIONAL       ASPECTO PSICOLÓGICO   \n",
              "4               45331                   COMUNICAÇÃO       ASPECTO PSICOLÓGICO   \n",
              "5               45331         COORDENAÇÃO DE CABINE  DESEMPENHO DO SER HUMANO   \n",
              "6               45331  CULTURA DO GRUPO DE TRABALHO       ASPECTO PSICOLÓGICO   \n",
              "7               45331        CULTURA ORGANIZACIONAL       ASPECTO PSICOLÓGICO   \n",
              "8               45331           DESVIO DE NAVEGAÇÃO  DESEMPENHO DO SER HUMANO   \n",
              "9               45331            DINÂMICA DE EQUIPE       ASPECTO PSICOLÓGICO   \n",
              "\n",
              "    fator_condicionante         fator_area  \n",
              "0  OPERAÇÃO DA AERONAVE  FATOR OPERACIONAL  \n",
              "1            INDIVIDUAL       FATOR HUMANO  \n",
              "2        ORGANIZACIONAL       FATOR HUMANO  \n",
              "3        ORGANIZACIONAL       FATOR HUMANO  \n",
              "4          PSICOSSOCIAL       FATOR HUMANO  \n",
              "5  OPERAÇÃO DA AERONAVE  FATOR OPERACIONAL  \n",
              "6          PSICOSSOCIAL       FATOR HUMANO  \n",
              "7        ORGANIZACIONAL       FATOR HUMANO  \n",
              "8  OPERAÇÃO DA AERONAVE  FATOR OPERACIONAL  \n",
              "9          PSICOSSOCIAL       FATOR HUMANO  "
            ],
            "text/html": [
              "\n",
              "  <div id=\"df-121cf313-dca3-437e-a1f9-6a2f4a7b75c2\">\n",
              "    <div class=\"colab-df-container\">\n",
              "      <div>\n",
              "<style scoped>\n",
              "    .dataframe tbody tr th:only-of-type {\n",
              "        vertical-align: middle;\n",
              "    }\n",
              "\n",
              "    .dataframe tbody tr th {\n",
              "        vertical-align: top;\n",
              "    }\n",
              "\n",
              "    .dataframe thead th {\n",
              "        text-align: right;\n",
              "    }\n",
              "</style>\n",
              "<table border=\"1\" class=\"dataframe\">\n",
              "  <thead>\n",
              "    <tr style=\"text-align: right;\">\n",
              "      <th></th>\n",
              "      <th>codigo_ocorrencia3</th>\n",
              "      <th>fator_nome</th>\n",
              "      <th>fator_aspecto</th>\n",
              "      <th>fator_condicionante</th>\n",
              "      <th>fator_area</th>\n",
              "    </tr>\n",
              "  </thead>\n",
              "  <tbody>\n",
              "    <tr>\n",
              "      <th>0</th>\n",
              "      <td>45331</td>\n",
              "      <td>APLICAÇÃO DE COMANDOS</td>\n",
              "      <td>DESEMPENHO DO SER HUMANO</td>\n",
              "      <td>OPERAÇÃO DA AERONAVE</td>\n",
              "      <td>FATOR OPERACIONAL</td>\n",
              "    </tr>\n",
              "    <tr>\n",
              "      <th>1</th>\n",
              "      <td>45331</td>\n",
              "      <td>ATENÇÃO</td>\n",
              "      <td>ASPECTO PSICOLÓGICO</td>\n",
              "      <td>INDIVIDUAL</td>\n",
              "      <td>FATOR HUMANO</td>\n",
              "    </tr>\n",
              "    <tr>\n",
              "      <th>2</th>\n",
              "      <td>45331</td>\n",
              "      <td>CAPACITAÇÃO E TREINAMENTO</td>\n",
              "      <td>ASPECTO PSICOLÓGICO</td>\n",
              "      <td>ORGANIZACIONAL</td>\n",
              "      <td>FATOR HUMANO</td>\n",
              "    </tr>\n",
              "    <tr>\n",
              "      <th>3</th>\n",
              "      <td>45331</td>\n",
              "      <td>CLIMA ORGANIZACIONAL</td>\n",
              "      <td>ASPECTO PSICOLÓGICO</td>\n",
              "      <td>ORGANIZACIONAL</td>\n",
              "      <td>FATOR HUMANO</td>\n",
              "    </tr>\n",
              "    <tr>\n",
              "      <th>4</th>\n",
              "      <td>45331</td>\n",
              "      <td>COMUNICAÇÃO</td>\n",
              "      <td>ASPECTO PSICOLÓGICO</td>\n",
              "      <td>PSICOSSOCIAL</td>\n",
              "      <td>FATOR HUMANO</td>\n",
              "    </tr>\n",
              "    <tr>\n",
              "      <th>5</th>\n",
              "      <td>45331</td>\n",
              "      <td>COORDENAÇÃO DE CABINE</td>\n",
              "      <td>DESEMPENHO DO SER HUMANO</td>\n",
              "      <td>OPERAÇÃO DA AERONAVE</td>\n",
              "      <td>FATOR OPERACIONAL</td>\n",
              "    </tr>\n",
              "    <tr>\n",
              "      <th>6</th>\n",
              "      <td>45331</td>\n",
              "      <td>CULTURA DO GRUPO DE TRABALHO</td>\n",
              "      <td>ASPECTO PSICOLÓGICO</td>\n",
              "      <td>PSICOSSOCIAL</td>\n",
              "      <td>FATOR HUMANO</td>\n",
              "    </tr>\n",
              "    <tr>\n",
              "      <th>7</th>\n",
              "      <td>45331</td>\n",
              "      <td>CULTURA ORGANIZACIONAL</td>\n",
              "      <td>ASPECTO PSICOLÓGICO</td>\n",
              "      <td>ORGANIZACIONAL</td>\n",
              "      <td>FATOR HUMANO</td>\n",
              "    </tr>\n",
              "    <tr>\n",
              "      <th>8</th>\n",
              "      <td>45331</td>\n",
              "      <td>DESVIO DE NAVEGAÇÃO</td>\n",
              "      <td>DESEMPENHO DO SER HUMANO</td>\n",
              "      <td>OPERAÇÃO DA AERONAVE</td>\n",
              "      <td>FATOR OPERACIONAL</td>\n",
              "    </tr>\n",
              "    <tr>\n",
              "      <th>9</th>\n",
              "      <td>45331</td>\n",
              "      <td>DINÂMICA DE EQUIPE</td>\n",
              "      <td>ASPECTO PSICOLÓGICO</td>\n",
              "      <td>PSICOSSOCIAL</td>\n",
              "      <td>FATOR HUMANO</td>\n",
              "    </tr>\n",
              "  </tbody>\n",
              "</table>\n",
              "</div>\n",
              "      <button class=\"colab-df-convert\" onclick=\"convertToInteractive('df-121cf313-dca3-437e-a1f9-6a2f4a7b75c2')\"\n",
              "              title=\"Convert this dataframe to an interactive table.\"\n",
              "              style=\"display:none;\">\n",
              "        \n",
              "  <svg xmlns=\"http://www.w3.org/2000/svg\" height=\"24px\"viewBox=\"0 0 24 24\"\n",
              "       width=\"24px\">\n",
              "    <path d=\"M0 0h24v24H0V0z\" fill=\"none\"/>\n",
              "    <path d=\"M18.56 5.44l.94 2.06.94-2.06 2.06-.94-2.06-.94-.94-2.06-.94 2.06-2.06.94zm-11 1L8.5 8.5l.94-2.06 2.06-.94-2.06-.94L8.5 2.5l-.94 2.06-2.06.94zm10 10l.94 2.06.94-2.06 2.06-.94-2.06-.94-.94-2.06-.94 2.06-2.06.94z\"/><path d=\"M17.41 7.96l-1.37-1.37c-.4-.4-.92-.59-1.43-.59-.52 0-1.04.2-1.43.59L10.3 9.45l-7.72 7.72c-.78.78-.78 2.05 0 2.83L4 21.41c.39.39.9.59 1.41.59.51 0 1.02-.2 1.41-.59l7.78-7.78 2.81-2.81c.8-.78.8-2.07 0-2.86zM5.41 20L4 18.59l7.72-7.72 1.47 1.35L5.41 20z\"/>\n",
              "  </svg>\n",
              "      </button>\n",
              "      \n",
              "  <style>\n",
              "    .colab-df-container {\n",
              "      display:flex;\n",
              "      flex-wrap:wrap;\n",
              "      gap: 12px;\n",
              "    }\n",
              "\n",
              "    .colab-df-convert {\n",
              "      background-color: #E8F0FE;\n",
              "      border: none;\n",
              "      border-radius: 50%;\n",
              "      cursor: pointer;\n",
              "      display: none;\n",
              "      fill: #1967D2;\n",
              "      height: 32px;\n",
              "      padding: 0 0 0 0;\n",
              "      width: 32px;\n",
              "    }\n",
              "\n",
              "    .colab-df-convert:hover {\n",
              "      background-color: #E2EBFA;\n",
              "      box-shadow: 0px 1px 2px rgba(60, 64, 67, 0.3), 0px 1px 3px 1px rgba(60, 64, 67, 0.15);\n",
              "      fill: #174EA6;\n",
              "    }\n",
              "\n",
              "    [theme=dark] .colab-df-convert {\n",
              "      background-color: #3B4455;\n",
              "      fill: #D2E3FC;\n",
              "    }\n",
              "\n",
              "    [theme=dark] .colab-df-convert:hover {\n",
              "      background-color: #434B5C;\n",
              "      box-shadow: 0px 1px 3px 1px rgba(0, 0, 0, 0.15);\n",
              "      filter: drop-shadow(0px 1px 2px rgba(0, 0, 0, 0.3));\n",
              "      fill: #FFFFFF;\n",
              "    }\n",
              "  </style>\n",
              "\n",
              "      <script>\n",
              "        const buttonEl =\n",
              "          document.querySelector('#df-121cf313-dca3-437e-a1f9-6a2f4a7b75c2 button.colab-df-convert');\n",
              "        buttonEl.style.display =\n",
              "          google.colab.kernel.accessAllowed ? 'block' : 'none';\n",
              "\n",
              "        async function convertToInteractive(key) {\n",
              "          const element = document.querySelector('#df-121cf313-dca3-437e-a1f9-6a2f4a7b75c2');\n",
              "          const dataTable =\n",
              "            await google.colab.kernel.invokeFunction('convertToInteractive',\n",
              "                                                     [key], {});\n",
              "          if (!dataTable) return;\n",
              "\n",
              "          const docLinkHtml = 'Like what you see? Visit the ' +\n",
              "            '<a target=\"_blank\" href=https://colab.research.google.com/notebooks/data_table.ipynb>data table notebook</a>'\n",
              "            + ' to learn more about interactive tables.';\n",
              "          element.innerHTML = '';\n",
              "          dataTable['output_type'] = 'display_data';\n",
              "          await google.colab.output.renderOutput(dataTable, element);\n",
              "          const docLink = document.createElement('div');\n",
              "          docLink.innerHTML = docLinkHtml;\n",
              "          element.appendChild(docLink);\n",
              "        }\n",
              "      </script>\n",
              "    </div>\n",
              "  </div>\n",
              "  "
            ]
          },
          "metadata": {},
          "execution_count": 7
        }
      ]
    },
    {
      "cell_type": "markdown",
      "source": [
        "Exibir os tipos de dados dos objetos"
      ],
      "metadata": {
        "id": "hIDtMx1Mgp5J"
      }
    },
    {
      "cell_type": "code",
      "source": [
        "df.dtypes"
      ],
      "metadata": {
        "colab": {
          "base_uri": "https://localhost:8080/"
        },
        "id": "8CDemDrwgocy",
        "outputId": "22249db5-8692-4dc2-a3d5-98502720f708"
      },
      "execution_count": 8,
      "outputs": [
        {
          "output_type": "execute_result",
          "data": {
            "text/plain": [
              "codigo_ocorrencia3      int64\n",
              "fator_nome             object\n",
              "fator_aspecto          object\n",
              "fator_condicionante    object\n",
              "fator_area             object\n",
              "dtype: object"
            ]
          },
          "metadata": {},
          "execution_count": 8
        }
      ]
    },
    {
      "cell_type": "markdown",
      "source": [
        "Até esse trecho foi realizado o carregamento de dados com a conversão das colunas que contém datas para o tipo de dado \"date\" com o método \"parse\"."
      ],
      "metadata": {
        "id": "ww7eHVIYhGxi"
      }
    },
    {
      "cell_type": "code",
      "source": [
        "df.replace(['***','**','####','###!','****','*****','NULL'], pd.NA, inplace=True)"
      ],
      "metadata": {
        "id": "xfzYDrbiqfYf"
      },
      "execution_count": 9,
      "outputs": []
    },
    {
      "cell_type": "code",
      "source": [
        "schema = pa.DataFrameSchema(\n",
        "    columns = {\n",
        "        \"fator_nome\":pa.Column(pa.String),\n",
        "        \"fator_aspecto\": pa.Column((pa.String),nullable=True),\n",
        "        \"fator_condicionante\":pa.Column((pa.String),nullable=True),\n",
        "        \"fator_area\":pa.Column((pa.String),nullable=True)\n",
        "    }\n",
        ")"
      ],
      "metadata": {
        "id": "YD6-qKwohIM8"
      },
      "execution_count": 14,
      "outputs": []
    },
    {
      "cell_type": "code",
      "source": [
        "df.isnull().sum()"
      ],
      "metadata": {
        "colab": {
          "base_uri": "https://localhost:8080/"
        },
        "id": "biSu7dFPrSJ3",
        "outputId": "a660b534-d409-423f-beb6-ec93944055f3"
      },
      "execution_count": 15,
      "outputs": [
        {
          "output_type": "execute_result",
          "data": {
            "text/plain": [
              "codigo_ocorrencia3       0\n",
              "fator_nome               0\n",
              "fator_aspecto           19\n",
              "fator_condicionante    354\n",
              "fator_area              19\n",
              "dtype: int64"
            ]
          },
          "metadata": {},
          "execution_count": 15
        }
      ]
    },
    {
      "cell_type": "markdown",
      "source": [
        "##Validação do Schema"
      ],
      "metadata": {
        "id": "TezA_g32pRbR"
      }
    },
    {
      "cell_type": "code",
      "source": [
        "schema.validate(df)"
      ],
      "metadata": {
        "colab": {
          "base_uri": "https://localhost:8080/",
          "height": 572
        },
        "id": "Tndi1ZY_pPiR",
        "outputId": "82083fd4-459e-4f8f-96e2-c74addc3062a"
      },
      "execution_count": 16,
      "outputs": [
        {
          "output_type": "execute_result",
          "data": {
            "text/plain": [
              "      codigo_ocorrencia3                    fator_nome  \\\n",
              "0                  45331         APLICAÇÃO DE COMANDOS   \n",
              "1                  45331                       ATENÇÃO   \n",
              "2                  45331     CAPACITAÇÃO E TREINAMENTO   \n",
              "3                  45331          CLIMA ORGANIZACIONAL   \n",
              "4                  45331                   COMUNICAÇÃO   \n",
              "...                  ...                           ...   \n",
              "3459               79713          SUPERVISÃO GERENCIAL   \n",
              "3460               79729                   OUTRO FATOR   \n",
              "3461               80073        MANUTENÇÃO DA AERONAVE   \n",
              "3462               80258  INFRAESTRUTURA AEROPORTUÁRIA   \n",
              "3463               80258   PRESENÇA DE FAUNA (NÃO AVE)   \n",
              "\n",
              "                                       fator_aspecto     fator_condicionante  \\\n",
              "0                           DESEMPENHO DO SER HUMANO    OPERAÇÃO DA AERONAVE   \n",
              "1                                ASPECTO PSICOLÓGICO              INDIVIDUAL   \n",
              "2                                ASPECTO PSICOLÓGICO          ORGANIZACIONAL   \n",
              "3                                ASPECTO PSICOLÓGICO          ORGANIZACIONAL   \n",
              "4                                ASPECTO PSICOLÓGICO            PSICOSSOCIAL   \n",
              "...                                              ...                     ...   \n",
              "3459                        DESEMPENHO DO SER HUMANO    OPERAÇÃO DA AERONAVE   \n",
              "3460                                           OUTRO                    <NA>   \n",
              "3461                        DESEMPENHO DO SER HUMANO  MANUTENÇÃO DA AERONAVE   \n",
              "3462                    INFRAESTRUTURA AEROPORTUÁRIA                    <NA>   \n",
              "3463  ELEMENTOS RELACIONADOS AO AMBIENTE OPERACIONAL                    <NA>   \n",
              "\n",
              "             fator_area  \n",
              "0     FATOR OPERACIONAL  \n",
              "1          FATOR HUMANO  \n",
              "2          FATOR HUMANO  \n",
              "3          FATOR HUMANO  \n",
              "4          FATOR HUMANO  \n",
              "...                 ...  \n",
              "3459  FATOR OPERACIONAL  \n",
              "3460              OUTRO  \n",
              "3461  FATOR OPERACIONAL  \n",
              "3462  FATOR OPERACIONAL  \n",
              "3463  FATOR OPERACIONAL  \n",
              "\n",
              "[3464 rows x 5 columns]"
            ],
            "text/html": [
              "\n",
              "  <div id=\"df-36770b82-37a6-4414-8495-cc4ffdcda7a7\">\n",
              "    <div class=\"colab-df-container\">\n",
              "      <div>\n",
              "<style scoped>\n",
              "    .dataframe tbody tr th:only-of-type {\n",
              "        vertical-align: middle;\n",
              "    }\n",
              "\n",
              "    .dataframe tbody tr th {\n",
              "        vertical-align: top;\n",
              "    }\n",
              "\n",
              "    .dataframe thead th {\n",
              "        text-align: right;\n",
              "    }\n",
              "</style>\n",
              "<table border=\"1\" class=\"dataframe\">\n",
              "  <thead>\n",
              "    <tr style=\"text-align: right;\">\n",
              "      <th></th>\n",
              "      <th>codigo_ocorrencia3</th>\n",
              "      <th>fator_nome</th>\n",
              "      <th>fator_aspecto</th>\n",
              "      <th>fator_condicionante</th>\n",
              "      <th>fator_area</th>\n",
              "    </tr>\n",
              "  </thead>\n",
              "  <tbody>\n",
              "    <tr>\n",
              "      <th>0</th>\n",
              "      <td>45331</td>\n",
              "      <td>APLICAÇÃO DE COMANDOS</td>\n",
              "      <td>DESEMPENHO DO SER HUMANO</td>\n",
              "      <td>OPERAÇÃO DA AERONAVE</td>\n",
              "      <td>FATOR OPERACIONAL</td>\n",
              "    </tr>\n",
              "    <tr>\n",
              "      <th>1</th>\n",
              "      <td>45331</td>\n",
              "      <td>ATENÇÃO</td>\n",
              "      <td>ASPECTO PSICOLÓGICO</td>\n",
              "      <td>INDIVIDUAL</td>\n",
              "      <td>FATOR HUMANO</td>\n",
              "    </tr>\n",
              "    <tr>\n",
              "      <th>2</th>\n",
              "      <td>45331</td>\n",
              "      <td>CAPACITAÇÃO E TREINAMENTO</td>\n",
              "      <td>ASPECTO PSICOLÓGICO</td>\n",
              "      <td>ORGANIZACIONAL</td>\n",
              "      <td>FATOR HUMANO</td>\n",
              "    </tr>\n",
              "    <tr>\n",
              "      <th>3</th>\n",
              "      <td>45331</td>\n",
              "      <td>CLIMA ORGANIZACIONAL</td>\n",
              "      <td>ASPECTO PSICOLÓGICO</td>\n",
              "      <td>ORGANIZACIONAL</td>\n",
              "      <td>FATOR HUMANO</td>\n",
              "    </tr>\n",
              "    <tr>\n",
              "      <th>4</th>\n",
              "      <td>45331</td>\n",
              "      <td>COMUNICAÇÃO</td>\n",
              "      <td>ASPECTO PSICOLÓGICO</td>\n",
              "      <td>PSICOSSOCIAL</td>\n",
              "      <td>FATOR HUMANO</td>\n",
              "    </tr>\n",
              "    <tr>\n",
              "      <th>...</th>\n",
              "      <td>...</td>\n",
              "      <td>...</td>\n",
              "      <td>...</td>\n",
              "      <td>...</td>\n",
              "      <td>...</td>\n",
              "    </tr>\n",
              "    <tr>\n",
              "      <th>3459</th>\n",
              "      <td>79713</td>\n",
              "      <td>SUPERVISÃO GERENCIAL</td>\n",
              "      <td>DESEMPENHO DO SER HUMANO</td>\n",
              "      <td>OPERAÇÃO DA AERONAVE</td>\n",
              "      <td>FATOR OPERACIONAL</td>\n",
              "    </tr>\n",
              "    <tr>\n",
              "      <th>3460</th>\n",
              "      <td>79729</td>\n",
              "      <td>OUTRO FATOR</td>\n",
              "      <td>OUTRO</td>\n",
              "      <td>&lt;NA&gt;</td>\n",
              "      <td>OUTRO</td>\n",
              "    </tr>\n",
              "    <tr>\n",
              "      <th>3461</th>\n",
              "      <td>80073</td>\n",
              "      <td>MANUTENÇÃO DA AERONAVE</td>\n",
              "      <td>DESEMPENHO DO SER HUMANO</td>\n",
              "      <td>MANUTENÇÃO DA AERONAVE</td>\n",
              "      <td>FATOR OPERACIONAL</td>\n",
              "    </tr>\n",
              "    <tr>\n",
              "      <th>3462</th>\n",
              "      <td>80258</td>\n",
              "      <td>INFRAESTRUTURA AEROPORTUÁRIA</td>\n",
              "      <td>INFRAESTRUTURA AEROPORTUÁRIA</td>\n",
              "      <td>&lt;NA&gt;</td>\n",
              "      <td>FATOR OPERACIONAL</td>\n",
              "    </tr>\n",
              "    <tr>\n",
              "      <th>3463</th>\n",
              "      <td>80258</td>\n",
              "      <td>PRESENÇA DE FAUNA (NÃO AVE)</td>\n",
              "      <td>ELEMENTOS RELACIONADOS AO AMBIENTE OPERACIONAL</td>\n",
              "      <td>&lt;NA&gt;</td>\n",
              "      <td>FATOR OPERACIONAL</td>\n",
              "    </tr>\n",
              "  </tbody>\n",
              "</table>\n",
              "<p>3464 rows × 5 columns</p>\n",
              "</div>\n",
              "      <button class=\"colab-df-convert\" onclick=\"convertToInteractive('df-36770b82-37a6-4414-8495-cc4ffdcda7a7')\"\n",
              "              title=\"Convert this dataframe to an interactive table.\"\n",
              "              style=\"display:none;\">\n",
              "        \n",
              "  <svg xmlns=\"http://www.w3.org/2000/svg\" height=\"24px\"viewBox=\"0 0 24 24\"\n",
              "       width=\"24px\">\n",
              "    <path d=\"M0 0h24v24H0V0z\" fill=\"none\"/>\n",
              "    <path d=\"M18.56 5.44l.94 2.06.94-2.06 2.06-.94-2.06-.94-.94-2.06-.94 2.06-2.06.94zm-11 1L8.5 8.5l.94-2.06 2.06-.94-2.06-.94L8.5 2.5l-.94 2.06-2.06.94zm10 10l.94 2.06.94-2.06 2.06-.94-2.06-.94-.94-2.06-.94 2.06-2.06.94z\"/><path d=\"M17.41 7.96l-1.37-1.37c-.4-.4-.92-.59-1.43-.59-.52 0-1.04.2-1.43.59L10.3 9.45l-7.72 7.72c-.78.78-.78 2.05 0 2.83L4 21.41c.39.39.9.59 1.41.59.51 0 1.02-.2 1.41-.59l7.78-7.78 2.81-2.81c.8-.78.8-2.07 0-2.86zM5.41 20L4 18.59l7.72-7.72 1.47 1.35L5.41 20z\"/>\n",
              "  </svg>\n",
              "      </button>\n",
              "      \n",
              "  <style>\n",
              "    .colab-df-container {\n",
              "      display:flex;\n",
              "      flex-wrap:wrap;\n",
              "      gap: 12px;\n",
              "    }\n",
              "\n",
              "    .colab-df-convert {\n",
              "      background-color: #E8F0FE;\n",
              "      border: none;\n",
              "      border-radius: 50%;\n",
              "      cursor: pointer;\n",
              "      display: none;\n",
              "      fill: #1967D2;\n",
              "      height: 32px;\n",
              "      padding: 0 0 0 0;\n",
              "      width: 32px;\n",
              "    }\n",
              "\n",
              "    .colab-df-convert:hover {\n",
              "      background-color: #E2EBFA;\n",
              "      box-shadow: 0px 1px 2px rgba(60, 64, 67, 0.3), 0px 1px 3px 1px rgba(60, 64, 67, 0.15);\n",
              "      fill: #174EA6;\n",
              "    }\n",
              "\n",
              "    [theme=dark] .colab-df-convert {\n",
              "      background-color: #3B4455;\n",
              "      fill: #D2E3FC;\n",
              "    }\n",
              "\n",
              "    [theme=dark] .colab-df-convert:hover {\n",
              "      background-color: #434B5C;\n",
              "      box-shadow: 0px 1px 3px 1px rgba(0, 0, 0, 0.15);\n",
              "      filter: drop-shadow(0px 1px 2px rgba(0, 0, 0, 0.3));\n",
              "      fill: #FFFFFF;\n",
              "    }\n",
              "  </style>\n",
              "\n",
              "      <script>\n",
              "        const buttonEl =\n",
              "          document.querySelector('#df-36770b82-37a6-4414-8495-cc4ffdcda7a7 button.colab-df-convert');\n",
              "        buttonEl.style.display =\n",
              "          google.colab.kernel.accessAllowed ? 'block' : 'none';\n",
              "\n",
              "        async function convertToInteractive(key) {\n",
              "          const element = document.querySelector('#df-36770b82-37a6-4414-8495-cc4ffdcda7a7');\n",
              "          const dataTable =\n",
              "            await google.colab.kernel.invokeFunction('convertToInteractive',\n",
              "                                                     [key], {});\n",
              "          if (!dataTable) return;\n",
              "\n",
              "          const docLinkHtml = 'Like what you see? Visit the ' +\n",
              "            '<a target=\"_blank\" href=https://colab.research.google.com/notebooks/data_table.ipynb>data table notebook</a>'\n",
              "            + ' to learn more about interactive tables.';\n",
              "          element.innerHTML = '';\n",
              "          dataTable['output_type'] = 'display_data';\n",
              "          await google.colab.output.renderOutput(dataTable, element);\n",
              "          const docLink = document.createElement('div');\n",
              "          docLink.innerHTML = docLinkHtml;\n",
              "          element.appendChild(docLink);\n",
              "        }\n",
              "      </script>\n",
              "    </div>\n",
              "  </div>\n",
              "  "
            ]
          },
          "metadata": {},
          "execution_count": 16
        }
      ]
    },
    {
      "cell_type": "markdown",
      "source": [
        "##Checando se o valor da coluna \"codigo ocorrência\" são únicos."
      ],
      "metadata": {
        "id": "X5n76pLOtRra"
      }
    },
    {
      "cell_type": "code",
      "source": [
        "df.codigo_ocorrencia3.is_unique"
      ],
      "metadata": {
        "colab": {
          "base_uri": "https://localhost:8080/"
        },
        "id": "Y2TLWdohtPGr",
        "outputId": "36c91f67-effa-4999-91d4-1c32dd152c08"
      },
      "execution_count": 18,
      "outputs": [
        {
          "output_type": "execute_result",
          "data": {
            "text/plain": [
              "False"
            ]
          },
          "metadata": {},
          "execution_count": 18
        }
      ]
    },
    {
      "cell_type": "markdown",
      "source": [
        "Definindo \"codigo da ocorrência\" como indice"
      ],
      "metadata": {
        "id": "ljBNuJrftYrR"
      }
    },
    {
      "cell_type": "code",
      "source": [
        "df.set_index('codigo_ocorrencia3', inplace=True)"
      ],
      "metadata": {
        "id": "lOmE0Sa2tWp9"
      },
      "execution_count": 20,
      "outputs": []
    },
    {
      "cell_type": "markdown",
      "source": [
        "Consultar quantos NA tem no dataframe"
      ],
      "metadata": {
        "id": "HM2nUZNUtitO"
      }
    },
    {
      "cell_type": "code",
      "source": [
        "df.isna().sum()"
      ],
      "metadata": {
        "colab": {
          "base_uri": "https://localhost:8080/"
        },
        "id": "Vf2Ez_xRthEA",
        "outputId": "159bb85a-2390-42f0-a291-5c58dae8ef23"
      },
      "execution_count": 21,
      "outputs": [
        {
          "output_type": "execute_result",
          "data": {
            "text/plain": [
              "fator_nome               0\n",
              "fator_aspecto           19\n",
              "fator_condicionante    354\n",
              "fator_area              19\n",
              "dtype: int64"
            ]
          },
          "metadata": {},
          "execution_count": 21
        }
      ]
    },
    {
      "cell_type": "code",
      "source": [
        "df.isnull().sum()"
      ],
      "metadata": {
        "colab": {
          "base_uri": "https://localhost:8080/"
        },
        "id": "rC48hy6RtqQT",
        "outputId": "e65b8ffa-c067-4d2d-e4dd-b408727330fa"
      },
      "execution_count": 22,
      "outputs": [
        {
          "output_type": "execute_result",
          "data": {
            "text/plain": [
              "fator_nome               0\n",
              "fator_aspecto           19\n",
              "fator_condicionante    354\n",
              "fator_area              19\n",
              "dtype: int64"
            ]
          },
          "metadata": {},
          "execution_count": 22
        }
      ]
    }
  ]
}