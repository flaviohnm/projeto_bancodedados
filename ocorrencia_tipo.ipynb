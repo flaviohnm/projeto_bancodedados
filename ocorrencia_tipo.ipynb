{
  "nbformat": 4,
  "nbformat_minor": 0,
  "metadata": {
    "colab": {
      "name": "ocorrencia_tipo.ipynb",
      "provenance": [],
      "collapsed_sections": [],
      "include_colab_link": true
    },
    "kernelspec": {
      "name": "python3",
      "display_name": "Python 3"
    },
    "language_info": {
      "name": "python"
    }
  },
  "cells": [
    {
      "cell_type": "markdown",
      "metadata": {
        "id": "view-in-github",
        "colab_type": "text"
      },
      "source": [
        "<a href=\"https://colab.research.google.com/github/flaviohnm/projeto_bancodedados/blob/main/ocorrencia_tipo.ipynb\" target=\"_parent\"><img src=\"https://colab.research.google.com/assets/colab-badge.svg\" alt=\"Open In Colab\"/></a>"
      ]
    },
    {
      "cell_type": "code",
      "source": [
        "from google.colab import drive\n",
        "drive.mount('/content/drive')"
      ],
      "metadata": {
        "id": "WCyKw_IPyjE3",
        "colab": {
          "base_uri": "https://localhost:8080/"
        },
        "outputId": "d0abd52a-a78f-4093-df2f-15851248e81d"
      },
      "execution_count": 32,
      "outputs": [
        {
          "output_type": "stream",
          "name": "stdout",
          "text": [
            "Drive already mounted at /content/drive; to attempt to forcibly remount, call drive.mount(\"/content/drive\", force_remount=True).\n"
          ]
        }
      ]
    },
    {
      "cell_type": "markdown",
      "source": [
        "#Instalação do módulos"
      ],
      "metadata": {
        "id": "hTzBSqsEfBmc"
      }
    },
    {
      "cell_type": "code",
      "source": [
        ""
      ],
      "metadata": {
        "id": "gY17DopEz0Qa"
      },
      "execution_count": null,
      "outputs": []
    },
    {
      "cell_type": "code",
      "execution_count": 33,
      "metadata": {
        "id": "_zpHxd1ievvg",
        "outputId": "a6024ae3-6c0d-4866-896c-27e3ab0887f0",
        "colab": {
          "base_uri": "https://localhost:8080/"
        }
      },
      "outputs": [
        {
          "output_type": "stream",
          "name": "stdout",
          "text": [
            "Looking in indexes: https://pypi.org/simple, https://us-python.pkg.dev/colab-wheels/public/simple/\n",
            "Requirement already satisfied: pandera in /usr/local/lib/python3.7/dist-packages (0.9.0)\n",
            "Requirement already satisfied: numpy>=1.9.0 in /usr/local/lib/python3.7/dist-packages (from pandera) (1.21.6)\n",
            "Requirement already satisfied: typing-extensions>=3.7.4.3 in /usr/local/lib/python3.7/dist-packages (from pandera) (4.1.1)\n",
            "Requirement already satisfied: typing-inspect>=0.6.0 in /usr/local/lib/python3.7/dist-packages (from pandera) (0.7.1)\n",
            "Requirement already satisfied: packaging>=20.0 in /usr/local/lib/python3.7/dist-packages (from pandera) (21.3)\n",
            "Requirement already satisfied: pydantic in /usr/local/lib/python3.7/dist-packages (from pandera) (1.8.2)\n",
            "Requirement already satisfied: pandas>=1.0 in /usr/local/lib/python3.7/dist-packages (from pandera) (1.3.5)\n",
            "Requirement already satisfied: wrapt in /usr/local/lib/python3.7/dist-packages (from pandera) (1.14.1)\n",
            "Requirement already satisfied: pyarrow in /usr/local/lib/python3.7/dist-packages (from pandera) (6.0.1)\n",
            "Requirement already satisfied: pyparsing!=3.0.5,>=2.0.2 in /usr/local/lib/python3.7/dist-packages (from packaging>=20.0->pandera) (3.0.9)\n",
            "Requirement already satisfied: python-dateutil>=2.7.3 in /usr/local/lib/python3.7/dist-packages (from pandas>=1.0->pandera) (2.8.2)\n",
            "Requirement already satisfied: pytz>=2017.3 in /usr/local/lib/python3.7/dist-packages (from pandas>=1.0->pandera) (2022.1)\n",
            "Requirement already satisfied: six>=1.5 in /usr/local/lib/python3.7/dist-packages (from python-dateutil>=2.7.3->pandas>=1.0->pandera) (1.15.0)\n",
            "Requirement already satisfied: mypy-extensions>=0.3.0 in /usr/local/lib/python3.7/dist-packages (from typing-inspect>=0.6.0->pandera) (0.4.3)\n"
          ]
        }
      ],
      "source": [
        "pip install pandera"
      ]
    },
    {
      "cell_type": "markdown",
      "source": [
        "#Bloco de Extração"
      ],
      "metadata": {
        "id": "X7i63GjYfOCS"
      }
    },
    {
      "cell_type": "code",
      "source": [
        "import pandas as pd\n",
        "import pandera as pa"
      ],
      "metadata": {
        "id": "AYtx3raGfPOn"
      },
      "execution_count": 34,
      "outputs": []
    },
    {
      "cell_type": "code",
      "source": [
        "df = pd.read_csv(\"/content/drive/MyDrive/CENIPA/ocorrencia_tipo.csv\",sep=\";\")"
      ],
      "metadata": {
        "id": "xf68fXKWgFOh"
      },
      "execution_count": 35,
      "outputs": []
    },
    {
      "cell_type": "markdown",
      "source": [
        "## O comando \"head\" exibe a quantidade de linhas contida no parentesis."
      ],
      "metadata": {
        "id": "EN3BJRDJgUbh"
      }
    },
    {
      "cell_type": "code",
      "source": [
        "df.head(10)"
      ],
      "metadata": {
        "colab": {
          "base_uri": "https://localhost:8080/",
          "height": 528
        },
        "id": "muIiQgRRgVt-",
        "outputId": "fc8cdcb5-a133-40e2-dc37-af9b3f323ad5"
      },
      "execution_count": 36,
      "outputs": [
        {
          "output_type": "execute_result",
          "data": {
            "text/plain": [
              "   codigo_ocorrencia1            ocorrencia_tipo  \\\n",
              "0               45331         COM PESSOAL EM VOO   \n",
              "1               45332  PERDA DE CONTROLE NO SOLO   \n",
              "2               45333      FALHA DO MOTOR EM VOO   \n",
              "3               45334            ESTOURO DE PNEU   \n",
              "4               45390  OPERAÇÃO A BAIXA ALTITUDE   \n",
              "5               45391      FALHA DO MOTOR EM VOO   \n",
              "6               45392   PERDA DE CONTROLE EM VOO   \n",
              "7               45393          EXCURSÃO DE PISTA   \n",
              "8               45393  PERDA DE CONTROLE NO SOLO   \n",
              "9               45396          COM TREM DE POUSO   \n",
              "\n",
              "                           ocorrencia_tipo_categoria taxonomia_tipo_icao  \n",
              "0                        OUTROS | COM PESSOAL EM VOO                OTHR  \n",
              "1                          PERDA DE CONTROLE NO SOLO               LOC-G  \n",
              "2  FALHA OU MAU FUNCIONAMENTO DO MOTOR | FALHA DO...              SCF-PP  \n",
              "3  FALHA OU MAU FUNCIONAMENTO DE SISTEMA / COMPON...              SCF-NP  \n",
              "4                          OPERAÇÃO A BAIXA ALTITUDE                LALT  \n",
              "5  FALHA OU MAU FUNCIONAMENTO DO MOTOR | FALHA DO...              SCF-PP  \n",
              "6                           PERDA DE CONTROLE EM VOO               LOC-I  \n",
              "7                                  EXCURSÃO DE PISTA                  RE  \n",
              "8                          PERDA DE CONTROLE NO SOLO               LOC-G  \n",
              "9  FALHA OU MAU FUNCIONAMENTO DE SISTEMA / COMPON...              SCF-NP  "
            ],
            "text/html": [
              "\n",
              "  <div id=\"df-367f8a86-5667-4af9-b461-51a73f73b4d8\">\n",
              "    <div class=\"colab-df-container\">\n",
              "      <div>\n",
              "<style scoped>\n",
              "    .dataframe tbody tr th:only-of-type {\n",
              "        vertical-align: middle;\n",
              "    }\n",
              "\n",
              "    .dataframe tbody tr th {\n",
              "        vertical-align: top;\n",
              "    }\n",
              "\n",
              "    .dataframe thead th {\n",
              "        text-align: right;\n",
              "    }\n",
              "</style>\n",
              "<table border=\"1\" class=\"dataframe\">\n",
              "  <thead>\n",
              "    <tr style=\"text-align: right;\">\n",
              "      <th></th>\n",
              "      <th>codigo_ocorrencia1</th>\n",
              "      <th>ocorrencia_tipo</th>\n",
              "      <th>ocorrencia_tipo_categoria</th>\n",
              "      <th>taxonomia_tipo_icao</th>\n",
              "    </tr>\n",
              "  </thead>\n",
              "  <tbody>\n",
              "    <tr>\n",
              "      <th>0</th>\n",
              "      <td>45331</td>\n",
              "      <td>COM PESSOAL EM VOO</td>\n",
              "      <td>OUTROS | COM PESSOAL EM VOO</td>\n",
              "      <td>OTHR</td>\n",
              "    </tr>\n",
              "    <tr>\n",
              "      <th>1</th>\n",
              "      <td>45332</td>\n",
              "      <td>PERDA DE CONTROLE NO SOLO</td>\n",
              "      <td>PERDA DE CONTROLE NO SOLO</td>\n",
              "      <td>LOC-G</td>\n",
              "    </tr>\n",
              "    <tr>\n",
              "      <th>2</th>\n",
              "      <td>45333</td>\n",
              "      <td>FALHA DO MOTOR EM VOO</td>\n",
              "      <td>FALHA OU MAU FUNCIONAMENTO DO MOTOR | FALHA DO...</td>\n",
              "      <td>SCF-PP</td>\n",
              "    </tr>\n",
              "    <tr>\n",
              "      <th>3</th>\n",
              "      <td>45334</td>\n",
              "      <td>ESTOURO DE PNEU</td>\n",
              "      <td>FALHA OU MAU FUNCIONAMENTO DE SISTEMA / COMPON...</td>\n",
              "      <td>SCF-NP</td>\n",
              "    </tr>\n",
              "    <tr>\n",
              "      <th>4</th>\n",
              "      <td>45390</td>\n",
              "      <td>OPERAÇÃO A BAIXA ALTITUDE</td>\n",
              "      <td>OPERAÇÃO A BAIXA ALTITUDE</td>\n",
              "      <td>LALT</td>\n",
              "    </tr>\n",
              "    <tr>\n",
              "      <th>5</th>\n",
              "      <td>45391</td>\n",
              "      <td>FALHA DO MOTOR EM VOO</td>\n",
              "      <td>FALHA OU MAU FUNCIONAMENTO DO MOTOR | FALHA DO...</td>\n",
              "      <td>SCF-PP</td>\n",
              "    </tr>\n",
              "    <tr>\n",
              "      <th>6</th>\n",
              "      <td>45392</td>\n",
              "      <td>PERDA DE CONTROLE EM VOO</td>\n",
              "      <td>PERDA DE CONTROLE EM VOO</td>\n",
              "      <td>LOC-I</td>\n",
              "    </tr>\n",
              "    <tr>\n",
              "      <th>7</th>\n",
              "      <td>45393</td>\n",
              "      <td>EXCURSÃO DE PISTA</td>\n",
              "      <td>EXCURSÃO DE PISTA</td>\n",
              "      <td>RE</td>\n",
              "    </tr>\n",
              "    <tr>\n",
              "      <th>8</th>\n",
              "      <td>45393</td>\n",
              "      <td>PERDA DE CONTROLE NO SOLO</td>\n",
              "      <td>PERDA DE CONTROLE NO SOLO</td>\n",
              "      <td>LOC-G</td>\n",
              "    </tr>\n",
              "    <tr>\n",
              "      <th>9</th>\n",
              "      <td>45396</td>\n",
              "      <td>COM TREM DE POUSO</td>\n",
              "      <td>FALHA OU MAU FUNCIONAMENTO DE SISTEMA / COMPON...</td>\n",
              "      <td>SCF-NP</td>\n",
              "    </tr>\n",
              "  </tbody>\n",
              "</table>\n",
              "</div>\n",
              "      <button class=\"colab-df-convert\" onclick=\"convertToInteractive('df-367f8a86-5667-4af9-b461-51a73f73b4d8')\"\n",
              "              title=\"Convert this dataframe to an interactive table.\"\n",
              "              style=\"display:none;\">\n",
              "        \n",
              "  <svg xmlns=\"http://www.w3.org/2000/svg\" height=\"24px\"viewBox=\"0 0 24 24\"\n",
              "       width=\"24px\">\n",
              "    <path d=\"M0 0h24v24H0V0z\" fill=\"none\"/>\n",
              "    <path d=\"M18.56 5.44l.94 2.06.94-2.06 2.06-.94-2.06-.94-.94-2.06-.94 2.06-2.06.94zm-11 1L8.5 8.5l.94-2.06 2.06-.94-2.06-.94L8.5 2.5l-.94 2.06-2.06.94zm10 10l.94 2.06.94-2.06 2.06-.94-2.06-.94-.94-2.06-.94 2.06-2.06.94z\"/><path d=\"M17.41 7.96l-1.37-1.37c-.4-.4-.92-.59-1.43-.59-.52 0-1.04.2-1.43.59L10.3 9.45l-7.72 7.72c-.78.78-.78 2.05 0 2.83L4 21.41c.39.39.9.59 1.41.59.51 0 1.02-.2 1.41-.59l7.78-7.78 2.81-2.81c.8-.78.8-2.07 0-2.86zM5.41 20L4 18.59l7.72-7.72 1.47 1.35L5.41 20z\"/>\n",
              "  </svg>\n",
              "      </button>\n",
              "      \n",
              "  <style>\n",
              "    .colab-df-container {\n",
              "      display:flex;\n",
              "      flex-wrap:wrap;\n",
              "      gap: 12px;\n",
              "    }\n",
              "\n",
              "    .colab-df-convert {\n",
              "      background-color: #E8F0FE;\n",
              "      border: none;\n",
              "      border-radius: 50%;\n",
              "      cursor: pointer;\n",
              "      display: none;\n",
              "      fill: #1967D2;\n",
              "      height: 32px;\n",
              "      padding: 0 0 0 0;\n",
              "      width: 32px;\n",
              "    }\n",
              "\n",
              "    .colab-df-convert:hover {\n",
              "      background-color: #E2EBFA;\n",
              "      box-shadow: 0px 1px 2px rgba(60, 64, 67, 0.3), 0px 1px 3px 1px rgba(60, 64, 67, 0.15);\n",
              "      fill: #174EA6;\n",
              "    }\n",
              "\n",
              "    [theme=dark] .colab-df-convert {\n",
              "      background-color: #3B4455;\n",
              "      fill: #D2E3FC;\n",
              "    }\n",
              "\n",
              "    [theme=dark] .colab-df-convert:hover {\n",
              "      background-color: #434B5C;\n",
              "      box-shadow: 0px 1px 3px 1px rgba(0, 0, 0, 0.15);\n",
              "      filter: drop-shadow(0px 1px 2px rgba(0, 0, 0, 0.3));\n",
              "      fill: #FFFFFF;\n",
              "    }\n",
              "  </style>\n",
              "\n",
              "      <script>\n",
              "        const buttonEl =\n",
              "          document.querySelector('#df-367f8a86-5667-4af9-b461-51a73f73b4d8 button.colab-df-convert');\n",
              "        buttonEl.style.display =\n",
              "          google.colab.kernel.accessAllowed ? 'block' : 'none';\n",
              "\n",
              "        async function convertToInteractive(key) {\n",
              "          const element = document.querySelector('#df-367f8a86-5667-4af9-b461-51a73f73b4d8');\n",
              "          const dataTable =\n",
              "            await google.colab.kernel.invokeFunction('convertToInteractive',\n",
              "                                                     [key], {});\n",
              "          if (!dataTable) return;\n",
              "\n",
              "          const docLinkHtml = 'Like what you see? Visit the ' +\n",
              "            '<a target=\"_blank\" href=https://colab.research.google.com/notebooks/data_table.ipynb>data table notebook</a>'\n",
              "            + ' to learn more about interactive tables.';\n",
              "          element.innerHTML = '';\n",
              "          dataTable['output_type'] = 'display_data';\n",
              "          await google.colab.output.renderOutput(dataTable, element);\n",
              "          const docLink = document.createElement('div');\n",
              "          docLink.innerHTML = docLinkHtml;\n",
              "          element.appendChild(docLink);\n",
              "        }\n",
              "      </script>\n",
              "    </div>\n",
              "  </div>\n",
              "  "
            ]
          },
          "metadata": {},
          "execution_count": 36
        }
      ]
    },
    {
      "cell_type": "code",
      "source": [
        ""
      ],
      "metadata": {
        "id": "bgnk7L3KlKEp"
      },
      "execution_count": 36,
      "outputs": []
    },
    {
      "cell_type": "markdown",
      "source": [
        "Exibir os tipos de dados dos objetos"
      ],
      "metadata": {
        "id": "hIDtMx1Mgp5J"
      }
    },
    {
      "cell_type": "code",
      "source": [
        "df.dtypes"
      ],
      "metadata": {
        "colab": {
          "base_uri": "https://localhost:8080/"
        },
        "id": "8CDemDrwgocy",
        "outputId": "5833cbc6-cfce-4b68-bac9-ac8ec477078b"
      },
      "execution_count": 37,
      "outputs": [
        {
          "output_type": "execute_result",
          "data": {
            "text/plain": [
              "codigo_ocorrencia1            int64\n",
              "ocorrencia_tipo              object\n",
              "ocorrencia_tipo_categoria    object\n",
              "taxonomia_tipo_icao          object\n",
              "dtype: object"
            ]
          },
          "metadata": {},
          "execution_count": 37
        }
      ]
    },
    {
      "cell_type": "markdown",
      "source": [
        "Até esse trecho foi realizado o carregamento de dados com a conversão das colunas que contém datas para o tipo de dado \"date\" com o método \"parse\"."
      ],
      "metadata": {
        "id": "ww7eHVIYhGxi"
      }
    },
    {
      "cell_type": "code",
      "source": [
        "df.replace(['***','**','####','###!','****','*****','NULL'], pd.NA, inplace=True)"
      ],
      "metadata": {
        "id": "xfzYDrbiqfYf"
      },
      "execution_count": 38,
      "outputs": []
    },
    {
      "cell_type": "code",
      "source": [
        "schema = pa.DataFrameSchema(\n",
        "    columns = {\n",
        "        \"codigo_ocorrencia1\":pa.Column(pa.Int),\n",
        "        \"ocorrencia_tipo\":pa.Column((pa.String),nullable=True),\n",
        "        \"ocorrencia_tipo_categoria\":pa.Column((pa.String),nullable=True),\n",
        "        \"taxonomia_tipo_icao\":pa.Column((pa.String),nullable=True)     \n",
        "       \n",
        "    }\n",
        ")"
      ],
      "metadata": {
        "id": "YD6-qKwohIM8"
      },
      "execution_count": 39,
      "outputs": []
    },
    {
      "cell_type": "code",
      "source": [
        "df.isnull().sum()"
      ],
      "metadata": {
        "colab": {
          "base_uri": "https://localhost:8080/"
        },
        "id": "biSu7dFPrSJ3",
        "outputId": "0f07feb5-ee92-460f-949e-e1baa3c08050"
      },
      "execution_count": 40,
      "outputs": [
        {
          "output_type": "execute_result",
          "data": {
            "text/plain": [
              "codigo_ocorrencia1           0\n",
              "ocorrencia_tipo              1\n",
              "ocorrencia_tipo_categoria    1\n",
              "taxonomia_tipo_icao          1\n",
              "dtype: int64"
            ]
          },
          "metadata": {},
          "execution_count": 40
        }
      ]
    },
    {
      "cell_type": "markdown",
      "source": [
        "##Validação do Schema"
      ],
      "metadata": {
        "id": "TezA_g32pRbR"
      }
    },
    {
      "cell_type": "code",
      "source": [
        "schema.validate(df)"
      ],
      "metadata": {
        "colab": {
          "base_uri": "https://localhost:8080/",
          "height": 572
        },
        "id": "Tndi1ZY_pPiR",
        "outputId": "36090df4-c39f-4ce4-a6b7-55f999c1acef"
      },
      "execution_count": 41,
      "outputs": [
        {
          "output_type": "execute_result",
          "data": {
            "text/plain": [
              "      codigo_ocorrencia1                                    ocorrencia_tipo  \\\n",
              "0                  45331                                 COM PESSOAL EM VOO   \n",
              "1                  45332                          PERDA DE CONTROLE NO SOLO   \n",
              "2                  45333                              FALHA DO MOTOR EM VOO   \n",
              "3                  45334                                    ESTOURO DE PNEU   \n",
              "4                  45390                          OPERAÇÃO A BAIXA ALTITUDE   \n",
              "...                  ...                                                ...   \n",
              "5342               80461                                  COM TREM DE POUSO   \n",
              "5343               80463  FALHA OU MAU FUNCIONAMENTO DE SISTEMA / COMPON...   \n",
              "5344               80465                              FALHA DO MOTOR EM VOO   \n",
              "5345               80467                              FALHA DO MOTOR EM VOO   \n",
              "5346               80468                                  OPERAÇÕES NO SOLO   \n",
              "\n",
              "                              ocorrencia_tipo_categoria taxonomia_tipo_icao  \n",
              "0                           OUTROS | COM PESSOAL EM VOO                OTHR  \n",
              "1                             PERDA DE CONTROLE NO SOLO               LOC-G  \n",
              "2     FALHA OU MAU FUNCIONAMENTO DO MOTOR | FALHA DO...              SCF-PP  \n",
              "3     FALHA OU MAU FUNCIONAMENTO DE SISTEMA / COMPON...              SCF-NP  \n",
              "4                             OPERAÇÃO A BAIXA ALTITUDE                LALT  \n",
              "...                                                 ...                 ...  \n",
              "5342  FALHA OU MAU FUNCIONAMENTO DE SISTEMA / COMPON...              SCF-NP  \n",
              "5343  FALHA OU MAU FUNCIONAMENTO DE SISTEMA / COMPON...              SCF-NP  \n",
              "5344  FALHA OU MAU FUNCIONAMENTO DO MOTOR | FALHA DO...              SCF-PP  \n",
              "5345  FALHA OU MAU FUNCIONAMENTO DO MOTOR | FALHA DO...              SCF-PP  \n",
              "5346                                  OPERAÇÕES NO SOLO              [RAMP]  \n",
              "\n",
              "[5347 rows x 4 columns]"
            ],
            "text/html": [
              "\n",
              "  <div id=\"df-f844905f-34c4-4d40-b631-2ec2c2dd986c\">\n",
              "    <div class=\"colab-df-container\">\n",
              "      <div>\n",
              "<style scoped>\n",
              "    .dataframe tbody tr th:only-of-type {\n",
              "        vertical-align: middle;\n",
              "    }\n",
              "\n",
              "    .dataframe tbody tr th {\n",
              "        vertical-align: top;\n",
              "    }\n",
              "\n",
              "    .dataframe thead th {\n",
              "        text-align: right;\n",
              "    }\n",
              "</style>\n",
              "<table border=\"1\" class=\"dataframe\">\n",
              "  <thead>\n",
              "    <tr style=\"text-align: right;\">\n",
              "      <th></th>\n",
              "      <th>codigo_ocorrencia1</th>\n",
              "      <th>ocorrencia_tipo</th>\n",
              "      <th>ocorrencia_tipo_categoria</th>\n",
              "      <th>taxonomia_tipo_icao</th>\n",
              "    </tr>\n",
              "  </thead>\n",
              "  <tbody>\n",
              "    <tr>\n",
              "      <th>0</th>\n",
              "      <td>45331</td>\n",
              "      <td>COM PESSOAL EM VOO</td>\n",
              "      <td>OUTROS | COM PESSOAL EM VOO</td>\n",
              "      <td>OTHR</td>\n",
              "    </tr>\n",
              "    <tr>\n",
              "      <th>1</th>\n",
              "      <td>45332</td>\n",
              "      <td>PERDA DE CONTROLE NO SOLO</td>\n",
              "      <td>PERDA DE CONTROLE NO SOLO</td>\n",
              "      <td>LOC-G</td>\n",
              "    </tr>\n",
              "    <tr>\n",
              "      <th>2</th>\n",
              "      <td>45333</td>\n",
              "      <td>FALHA DO MOTOR EM VOO</td>\n",
              "      <td>FALHA OU MAU FUNCIONAMENTO DO MOTOR | FALHA DO...</td>\n",
              "      <td>SCF-PP</td>\n",
              "    </tr>\n",
              "    <tr>\n",
              "      <th>3</th>\n",
              "      <td>45334</td>\n",
              "      <td>ESTOURO DE PNEU</td>\n",
              "      <td>FALHA OU MAU FUNCIONAMENTO DE SISTEMA / COMPON...</td>\n",
              "      <td>SCF-NP</td>\n",
              "    </tr>\n",
              "    <tr>\n",
              "      <th>4</th>\n",
              "      <td>45390</td>\n",
              "      <td>OPERAÇÃO A BAIXA ALTITUDE</td>\n",
              "      <td>OPERAÇÃO A BAIXA ALTITUDE</td>\n",
              "      <td>LALT</td>\n",
              "    </tr>\n",
              "    <tr>\n",
              "      <th>...</th>\n",
              "      <td>...</td>\n",
              "      <td>...</td>\n",
              "      <td>...</td>\n",
              "      <td>...</td>\n",
              "    </tr>\n",
              "    <tr>\n",
              "      <th>5342</th>\n",
              "      <td>80461</td>\n",
              "      <td>COM TREM DE POUSO</td>\n",
              "      <td>FALHA OU MAU FUNCIONAMENTO DE SISTEMA / COMPON...</td>\n",
              "      <td>SCF-NP</td>\n",
              "    </tr>\n",
              "    <tr>\n",
              "      <th>5343</th>\n",
              "      <td>80463</td>\n",
              "      <td>FALHA OU MAU FUNCIONAMENTO DE SISTEMA / COMPON...</td>\n",
              "      <td>FALHA OU MAU FUNCIONAMENTO DE SISTEMA / COMPON...</td>\n",
              "      <td>SCF-NP</td>\n",
              "    </tr>\n",
              "    <tr>\n",
              "      <th>5344</th>\n",
              "      <td>80465</td>\n",
              "      <td>FALHA DO MOTOR EM VOO</td>\n",
              "      <td>FALHA OU MAU FUNCIONAMENTO DO MOTOR | FALHA DO...</td>\n",
              "      <td>SCF-PP</td>\n",
              "    </tr>\n",
              "    <tr>\n",
              "      <th>5345</th>\n",
              "      <td>80467</td>\n",
              "      <td>FALHA DO MOTOR EM VOO</td>\n",
              "      <td>FALHA OU MAU FUNCIONAMENTO DO MOTOR | FALHA DO...</td>\n",
              "      <td>SCF-PP</td>\n",
              "    </tr>\n",
              "    <tr>\n",
              "      <th>5346</th>\n",
              "      <td>80468</td>\n",
              "      <td>OPERAÇÕES NO SOLO</td>\n",
              "      <td>OPERAÇÕES NO SOLO</td>\n",
              "      <td>[RAMP]</td>\n",
              "    </tr>\n",
              "  </tbody>\n",
              "</table>\n",
              "<p>5347 rows × 4 columns</p>\n",
              "</div>\n",
              "      <button class=\"colab-df-convert\" onclick=\"convertToInteractive('df-f844905f-34c4-4d40-b631-2ec2c2dd986c')\"\n",
              "              title=\"Convert this dataframe to an interactive table.\"\n",
              "              style=\"display:none;\">\n",
              "        \n",
              "  <svg xmlns=\"http://www.w3.org/2000/svg\" height=\"24px\"viewBox=\"0 0 24 24\"\n",
              "       width=\"24px\">\n",
              "    <path d=\"M0 0h24v24H0V0z\" fill=\"none\"/>\n",
              "    <path d=\"M18.56 5.44l.94 2.06.94-2.06 2.06-.94-2.06-.94-.94-2.06-.94 2.06-2.06.94zm-11 1L8.5 8.5l.94-2.06 2.06-.94-2.06-.94L8.5 2.5l-.94 2.06-2.06.94zm10 10l.94 2.06.94-2.06 2.06-.94-2.06-.94-.94-2.06-.94 2.06-2.06.94z\"/><path d=\"M17.41 7.96l-1.37-1.37c-.4-.4-.92-.59-1.43-.59-.52 0-1.04.2-1.43.59L10.3 9.45l-7.72 7.72c-.78.78-.78 2.05 0 2.83L4 21.41c.39.39.9.59 1.41.59.51 0 1.02-.2 1.41-.59l7.78-7.78 2.81-2.81c.8-.78.8-2.07 0-2.86zM5.41 20L4 18.59l7.72-7.72 1.47 1.35L5.41 20z\"/>\n",
              "  </svg>\n",
              "      </button>\n",
              "      \n",
              "  <style>\n",
              "    .colab-df-container {\n",
              "      display:flex;\n",
              "      flex-wrap:wrap;\n",
              "      gap: 12px;\n",
              "    }\n",
              "\n",
              "    .colab-df-convert {\n",
              "      background-color: #E8F0FE;\n",
              "      border: none;\n",
              "      border-radius: 50%;\n",
              "      cursor: pointer;\n",
              "      display: none;\n",
              "      fill: #1967D2;\n",
              "      height: 32px;\n",
              "      padding: 0 0 0 0;\n",
              "      width: 32px;\n",
              "    }\n",
              "\n",
              "    .colab-df-convert:hover {\n",
              "      background-color: #E2EBFA;\n",
              "      box-shadow: 0px 1px 2px rgba(60, 64, 67, 0.3), 0px 1px 3px 1px rgba(60, 64, 67, 0.15);\n",
              "      fill: #174EA6;\n",
              "    }\n",
              "\n",
              "    [theme=dark] .colab-df-convert {\n",
              "      background-color: #3B4455;\n",
              "      fill: #D2E3FC;\n",
              "    }\n",
              "\n",
              "    [theme=dark] .colab-df-convert:hover {\n",
              "      background-color: #434B5C;\n",
              "      box-shadow: 0px 1px 3px 1px rgba(0, 0, 0, 0.15);\n",
              "      filter: drop-shadow(0px 1px 2px rgba(0, 0, 0, 0.3));\n",
              "      fill: #FFFFFF;\n",
              "    }\n",
              "  </style>\n",
              "\n",
              "      <script>\n",
              "        const buttonEl =\n",
              "          document.querySelector('#df-f844905f-34c4-4d40-b631-2ec2c2dd986c button.colab-df-convert');\n",
              "        buttonEl.style.display =\n",
              "          google.colab.kernel.accessAllowed ? 'block' : 'none';\n",
              "\n",
              "        async function convertToInteractive(key) {\n",
              "          const element = document.querySelector('#df-f844905f-34c4-4d40-b631-2ec2c2dd986c');\n",
              "          const dataTable =\n",
              "            await google.colab.kernel.invokeFunction('convertToInteractive',\n",
              "                                                     [key], {});\n",
              "          if (!dataTable) return;\n",
              "\n",
              "          const docLinkHtml = 'Like what you see? Visit the ' +\n",
              "            '<a target=\"_blank\" href=https://colab.research.google.com/notebooks/data_table.ipynb>data table notebook</a>'\n",
              "            + ' to learn more about interactive tables.';\n",
              "          element.innerHTML = '';\n",
              "          dataTable['output_type'] = 'display_data';\n",
              "          await google.colab.output.renderOutput(dataTable, element);\n",
              "          const docLink = document.createElement('div');\n",
              "          docLink.innerHTML = docLinkHtml;\n",
              "          element.appendChild(docLink);\n",
              "        }\n",
              "      </script>\n",
              "    </div>\n",
              "  </div>\n",
              "  "
            ]
          },
          "metadata": {},
          "execution_count": 41
        }
      ]
    },
    {
      "cell_type": "markdown",
      "source": [
        "##Checando se o valor da coluna \"codigo ocorrência\" são únicos."
      ],
      "metadata": {
        "id": "X5n76pLOtRra"
      }
    },
    {
      "cell_type": "code",
      "source": [
        "df.ocorrencia_tipo.is_unique"
      ],
      "metadata": {
        "colab": {
          "base_uri": "https://localhost:8080/"
        },
        "id": "Y2TLWdohtPGr",
        "outputId": "81423794-3d9a-4ac5-d0fb-bb0108179c94"
      },
      "execution_count": 42,
      "outputs": [
        {
          "output_type": "execute_result",
          "data": {
            "text/plain": [
              "False"
            ]
          },
          "metadata": {},
          "execution_count": 42
        }
      ]
    },
    {
      "cell_type": "markdown",
      "source": [
        "Definindo \"codigo da ocorrência\" como indice"
      ],
      "metadata": {
        "id": "ljBNuJrftYrR"
      }
    },
    {
      "cell_type": "code",
      "source": [
        "df.set_index('ocorrencia_tipo', inplace=True)"
      ],
      "metadata": {
        "id": "lOmE0Sa2tWp9"
      },
      "execution_count": 43,
      "outputs": []
    },
    {
      "cell_type": "markdown",
      "source": [
        "Consultar quantos NA tem no dataframe"
      ],
      "metadata": {
        "id": "HM2nUZNUtitO"
      }
    },
    {
      "cell_type": "code",
      "source": [
        "df.isna().sum()"
      ],
      "metadata": {
        "colab": {
          "base_uri": "https://localhost:8080/"
        },
        "id": "Vf2Ez_xRthEA",
        "outputId": "c98cc55a-7925-4ab8-8f4a-3b6a3002b870"
      },
      "execution_count": 15,
      "outputs": [
        {
          "output_type": "execute_result",
          "data": {
            "text/plain": [
              "codigo_ocorrencia1           0\n",
              "ocorrencia_tipo_categoria    1\n",
              "taxonomia_tipo_icao          1\n",
              "dtype: int64"
            ]
          },
          "metadata": {},
          "execution_count": 15
        }
      ]
    },
    {
      "cell_type": "code",
      "source": [
        "df.isnull().sum()"
      ],
      "metadata": {
        "colab": {
          "base_uri": "https://localhost:8080/"
        },
        "id": "rC48hy6RtqQT",
        "outputId": "c567f1de-2b3f-4354-d4d3-b65365f338fd"
      },
      "execution_count": 44,
      "outputs": [
        {
          "output_type": "execute_result",
          "data": {
            "text/plain": [
              "codigo_ocorrencia1           0\n",
              "ocorrencia_tipo_categoria    1\n",
              "taxonomia_tipo_icao          1\n",
              "dtype: int64"
            ]
          },
          "metadata": {},
          "execution_count": 44
        }
      ]
    },
    {
      "cell_type": "code",
      "source": [
        ""
      ],
      "metadata": {
        "id": "6cCsxF5St4Qz"
      },
      "execution_count": null,
      "outputs": []
    }
  ]
}