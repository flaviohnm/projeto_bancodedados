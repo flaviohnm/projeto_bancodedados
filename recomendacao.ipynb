{
  "nbformat": 4,
  "nbformat_minor": 0,
  "metadata": {
    "colab": {
      "name": "recomendacao.ipynb",
      "provenance": [],
      "collapsed_sections": [],
      "include_colab_link": true
    },
    "kernelspec": {
      "name": "python3",
      "display_name": "Python 3"
    },
    "language_info": {
      "name": "python"
    }
  },
  "cells": [
    {
      "cell_type": "markdown",
      "metadata": {
        "id": "view-in-github",
        "colab_type": "text"
      },
      "source": [
        "<a href=\"https://colab.research.google.com/github/flaviohnm/projeto_bancodedados/blob/main/recomendacao.ipynb\" target=\"_parent\"><img src=\"https://colab.research.google.com/assets/colab-badge.svg\" alt=\"Open In Colab\"/></a>"
      ]
    },
    {
      "cell_type": "code",
      "source": [
        "from google.colab import drive\n",
        "drive.mount('/content/drive')"
      ],
      "metadata": {
        "id": "NgWvCopOYPt7",
        "outputId": "c33b904b-44c9-4509-f1ad-0cd32658ad6c",
        "colab": {
          "base_uri": "https://localhost:8080/"
        }
      },
      "execution_count": 4,
      "outputs": [
        {
          "output_type": "stream",
          "name": "stdout",
          "text": [
            "Mounted at /content/drive\n"
          ]
        }
      ]
    },
    {
      "cell_type": "markdown",
      "source": [
        "#Instalação do módulos"
      ],
      "metadata": {
        "id": "hTzBSqsEfBmc"
      }
    },
    {
      "cell_type": "code",
      "execution_count": 5,
      "metadata": {
        "colab": {
          "base_uri": "https://localhost:8080/"
        },
        "id": "_zpHxd1ievvg",
        "outputId": "31b61a2a-7951-4117-aea5-41256afba467"
      },
      "outputs": [
        {
          "output_type": "stream",
          "name": "stdout",
          "text": [
            "Looking in indexes: https://pypi.org/simple, https://us-python.pkg.dev/colab-wheels/public/simple/\n",
            "Collecting pandera\n",
            "  Downloading pandera-0.9.0-py3-none-any.whl (197 kB)\n",
            "\u001b[K     |████████████████████████████████| 197 kB 5.1 MB/s \n",
            "\u001b[?25hCollecting typing-inspect>=0.6.0\n",
            "  Downloading typing_inspect-0.7.1-py3-none-any.whl (8.4 kB)\n",
            "Requirement already satisfied: typing-extensions>=3.7.4.3 in /usr/local/lib/python3.7/dist-packages (from pandera) (4.1.1)\n",
            "Requirement already satisfied: wrapt in /usr/local/lib/python3.7/dist-packages (from pandera) (1.14.1)\n",
            "Requirement already satisfied: pandas>=1.0 in /usr/local/lib/python3.7/dist-packages (from pandera) (1.3.5)\n",
            "Requirement already satisfied: pyarrow in /usr/local/lib/python3.7/dist-packages (from pandera) (6.0.1)\n",
            "Requirement already satisfied: numpy>=1.9.0 in /usr/local/lib/python3.7/dist-packages (from pandera) (1.21.6)\n",
            "Requirement already satisfied: packaging>=20.0 in /usr/local/lib/python3.7/dist-packages (from pandera) (21.3)\n",
            "Requirement already satisfied: pydantic in /usr/local/lib/python3.7/dist-packages (from pandera) (1.8.2)\n",
            "Requirement already satisfied: pyparsing!=3.0.5,>=2.0.2 in /usr/local/lib/python3.7/dist-packages (from packaging>=20.0->pandera) (3.0.9)\n",
            "Requirement already satisfied: python-dateutil>=2.7.3 in /usr/local/lib/python3.7/dist-packages (from pandas>=1.0->pandera) (2.8.2)\n",
            "Requirement already satisfied: pytz>=2017.3 in /usr/local/lib/python3.7/dist-packages (from pandas>=1.0->pandera) (2022.1)\n",
            "Requirement already satisfied: six>=1.5 in /usr/local/lib/python3.7/dist-packages (from python-dateutil>=2.7.3->pandas>=1.0->pandera) (1.15.0)\n",
            "Collecting mypy-extensions>=0.3.0\n",
            "  Downloading mypy_extensions-0.4.3-py2.py3-none-any.whl (4.5 kB)\n",
            "Installing collected packages: mypy-extensions, typing-inspect, pandera\n",
            "Successfully installed mypy-extensions-0.4.3 pandera-0.9.0 typing-inspect-0.7.1\n"
          ]
        }
      ],
      "source": [
        "pip install pandera"
      ]
    },
    {
      "cell_type": "markdown",
      "source": [
        "#Bloco de Extração"
      ],
      "metadata": {
        "id": "X7i63GjYfOCS"
      }
    },
    {
      "cell_type": "code",
      "source": [
        "import pandas as pd\n",
        "import pandera as pa"
      ],
      "metadata": {
        "id": "AYtx3raGfPOn"
      },
      "execution_count": 6,
      "outputs": []
    },
    {
      "cell_type": "code",
      "source": [
        "df = pd.read_csv(\"/content/drive/MyDrive/CENIPA/recomendacao.csv\",sep=\";\",parse_dates=['recomendacao_numero'],dayfirst=True)"
      ],
      "metadata": {
        "id": "xf68fXKWgFOh"
      },
      "execution_count": 7,
      "outputs": []
    },
    {
      "cell_type": "markdown",
      "source": [
        "## O comando \"head\" exibe a quantidade de linhas contida no parentesis."
      ],
      "metadata": {
        "id": "EN3BJRDJgUbh"
      }
    },
    {
      "cell_type": "code",
      "source": [
        "df.head(10)"
      ],
      "metadata": {
        "colab": {
          "base_uri": "https://localhost:8080/",
          "height": 670
        },
        "id": "muIiQgRRgVt-",
        "outputId": "b977a829-52f9-48a6-cf86-6bc5441380f5"
      },
      "execution_count": 9,
      "outputs": [
        {
          "output_type": "execute_result",
          "data": {
            "text/plain": [
              "   codigo_ocorrencia4          recomendacao_numero  \\\n",
              "0               45331       A-582/CENIPA/2014 - 01   \n",
              "1               45331       A-582/CENIPA/2014 - 02   \n",
              "2               45331       A-582/CENIPA/2014 - 03   \n",
              "3               45392  A-032/CENIPA/2014 - RSV 001   \n",
              "4               45392  A-032/CENIPA/2014 - RSV 002   \n",
              "5               45397      IG-536/CENIPA/2014 - 01   \n",
              "6               45397      IG-536/CENIPA/2014 - 02   \n",
              "7               45400      IG-544/CENIPA/2015 - 01   \n",
              "8               45400      IG-544/CENIPA/2015 - 02   \n",
              "9               45400      IG-544/CENIPA/2015 - 03   \n",
              "\n",
              "  recomendacao_dia_assinatura recomendacao_dia_encaminhamento  \\\n",
              "0                  29/07/2016                      25/08/2016   \n",
              "1                  29/07/2016                      25/08/2016   \n",
              "2                  29/07/2016                      25/08/2016   \n",
              "3                  07/04/2014                      14/04/2015   \n",
              "4                  07/04/2014                      14/04/2015   \n",
              "5                  15/04/2016                      17/05/2016   \n",
              "6                  15/04/2016                      17/05/2016   \n",
              "7                  31/03/2017                      31/03/2017   \n",
              "8                  31/03/2017                      31/03/2017   \n",
              "9                  31/03/2017                      31/03/2017   \n",
              "\n",
              "  recomendacao_dia_feedback  \\\n",
              "0                20/12/2016   \n",
              "1                20/12/2016   \n",
              "2                       NaN   \n",
              "3                21/08/2015   \n",
              "4                17/08/2015   \n",
              "5                21/02/2017   \n",
              "6                24/02/2017   \n",
              "7                       NaN   \n",
              "8                       NaN   \n",
              "9                       NaN   \n",
              "\n",
              "                               recomendacao_conteudo  \\\n",
              "0  Atuar junto às empresas que operam segundo o R...   \n",
              "1  Atuar junto à Administração do Aeroporto Inter...   \n",
              "2  Orientar as suas organizações subordinadas em ...   \n",
              "3  Divulgar aos operadores de helicópteros vincul...   \n",
              "4  Tendo em vista os fatos levantados nesta inves...   \n",
              "5  Certificar-se que a IS n° 00-002B, no capítulo...   \n",
              "6  Certificar-se de que o tempo limite para revis...   \n",
              "7  Assegurar-se que os pilotos que operam aeronav...   \n",
              "8  Realizar gestões junto ao operador, a fim de a...   \n",
              "9  Realizar gestões junto ao operador, a fim de g...   \n",
              "\n",
              "             recomendacao_status recomendacao_destinatario_sigla  \\\n",
              "0                       CUMPRIDA                            ANAC   \n",
              "1                       CUMPRIDA                            ANAC   \n",
              "2            AGUARDANDO RESPOSTA                           DECEA   \n",
              "3  CUMPRIDA DE FORMA ALTERNATIVA                            ANAC   \n",
              "4                   NÃO CUMPRIDA                            ANAC   \n",
              "5                       CUMPRIDA                            ANAC   \n",
              "6                       CUMPRIDA                            ANAC   \n",
              "7            AGUARDANDO RESPOSTA                            ANAC   \n",
              "8            AGUARDANDO RESPOSTA                            ANAC   \n",
              "9            AGUARDANDO RESPOSTA                            ANAC   \n",
              "\n",
              "                  recomendacao_destinatario  \n",
              "0         AGÊNCIA NACIONAL DE AVIAÇÃO CIVIL  \n",
              "1         AGÊNCIA NACIONAL DE AVIAÇÃO CIVIL  \n",
              "2  DEPARTAMENTO DE CONTROLE DE ESPAÇO AÉREO  \n",
              "3         AGÊNCIA NACIONAL DE AVIAÇÃO CIVIL  \n",
              "4         AGÊNCIA NACIONAL DE AVIAÇÃO CIVIL  \n",
              "5         AGÊNCIA NACIONAL DE AVIAÇÃO CIVIL  \n",
              "6         AGÊNCIA NACIONAL DE AVIAÇÃO CIVIL  \n",
              "7         AGÊNCIA NACIONAL DE AVIAÇÃO CIVIL  \n",
              "8         AGÊNCIA NACIONAL DE AVIAÇÃO CIVIL  \n",
              "9         AGÊNCIA NACIONAL DE AVIAÇÃO CIVIL  "
            ],
            "text/html": [
              "\n",
              "  <div id=\"df-ac7777e3-c092-40e4-9845-d27f9fc31da6\">\n",
              "    <div class=\"colab-df-container\">\n",
              "      <div>\n",
              "<style scoped>\n",
              "    .dataframe tbody tr th:only-of-type {\n",
              "        vertical-align: middle;\n",
              "    }\n",
              "\n",
              "    .dataframe tbody tr th {\n",
              "        vertical-align: top;\n",
              "    }\n",
              "\n",
              "    .dataframe thead th {\n",
              "        text-align: right;\n",
              "    }\n",
              "</style>\n",
              "<table border=\"1\" class=\"dataframe\">\n",
              "  <thead>\n",
              "    <tr style=\"text-align: right;\">\n",
              "      <th></th>\n",
              "      <th>codigo_ocorrencia4</th>\n",
              "      <th>recomendacao_numero</th>\n",
              "      <th>recomendacao_dia_assinatura</th>\n",
              "      <th>recomendacao_dia_encaminhamento</th>\n",
              "      <th>recomendacao_dia_feedback</th>\n",
              "      <th>recomendacao_conteudo</th>\n",
              "      <th>recomendacao_status</th>\n",
              "      <th>recomendacao_destinatario_sigla</th>\n",
              "      <th>recomendacao_destinatario</th>\n",
              "    </tr>\n",
              "  </thead>\n",
              "  <tbody>\n",
              "    <tr>\n",
              "      <th>0</th>\n",
              "      <td>45331</td>\n",
              "      <td>A-582/CENIPA/2014 - 01</td>\n",
              "      <td>29/07/2016</td>\n",
              "      <td>25/08/2016</td>\n",
              "      <td>20/12/2016</td>\n",
              "      <td>Atuar junto às empresas que operam segundo o R...</td>\n",
              "      <td>CUMPRIDA</td>\n",
              "      <td>ANAC</td>\n",
              "      <td>AGÊNCIA NACIONAL DE AVIAÇÃO CIVIL</td>\n",
              "    </tr>\n",
              "    <tr>\n",
              "      <th>1</th>\n",
              "      <td>45331</td>\n",
              "      <td>A-582/CENIPA/2014 - 02</td>\n",
              "      <td>29/07/2016</td>\n",
              "      <td>25/08/2016</td>\n",
              "      <td>20/12/2016</td>\n",
              "      <td>Atuar junto à Administração do Aeroporto Inter...</td>\n",
              "      <td>CUMPRIDA</td>\n",
              "      <td>ANAC</td>\n",
              "      <td>AGÊNCIA NACIONAL DE AVIAÇÃO CIVIL</td>\n",
              "    </tr>\n",
              "    <tr>\n",
              "      <th>2</th>\n",
              "      <td>45331</td>\n",
              "      <td>A-582/CENIPA/2014 - 03</td>\n",
              "      <td>29/07/2016</td>\n",
              "      <td>25/08/2016</td>\n",
              "      <td>NaN</td>\n",
              "      <td>Orientar as suas organizações subordinadas em ...</td>\n",
              "      <td>AGUARDANDO RESPOSTA</td>\n",
              "      <td>DECEA</td>\n",
              "      <td>DEPARTAMENTO DE CONTROLE DE ESPAÇO AÉREO</td>\n",
              "    </tr>\n",
              "    <tr>\n",
              "      <th>3</th>\n",
              "      <td>45392</td>\n",
              "      <td>A-032/CENIPA/2014 - RSV 001</td>\n",
              "      <td>07/04/2014</td>\n",
              "      <td>14/04/2015</td>\n",
              "      <td>21/08/2015</td>\n",
              "      <td>Divulgar aos operadores de helicópteros vincul...</td>\n",
              "      <td>CUMPRIDA DE FORMA ALTERNATIVA</td>\n",
              "      <td>ANAC</td>\n",
              "      <td>AGÊNCIA NACIONAL DE AVIAÇÃO CIVIL</td>\n",
              "    </tr>\n",
              "    <tr>\n",
              "      <th>4</th>\n",
              "      <td>45392</td>\n",
              "      <td>A-032/CENIPA/2014 - RSV 002</td>\n",
              "      <td>07/04/2014</td>\n",
              "      <td>14/04/2015</td>\n",
              "      <td>17/08/2015</td>\n",
              "      <td>Tendo em vista os fatos levantados nesta inves...</td>\n",
              "      <td>NÃO CUMPRIDA</td>\n",
              "      <td>ANAC</td>\n",
              "      <td>AGÊNCIA NACIONAL DE AVIAÇÃO CIVIL</td>\n",
              "    </tr>\n",
              "    <tr>\n",
              "      <th>5</th>\n",
              "      <td>45397</td>\n",
              "      <td>IG-536/CENIPA/2014 - 01</td>\n",
              "      <td>15/04/2016</td>\n",
              "      <td>17/05/2016</td>\n",
              "      <td>21/02/2017</td>\n",
              "      <td>Certificar-se que a IS n° 00-002B, no capítulo...</td>\n",
              "      <td>CUMPRIDA</td>\n",
              "      <td>ANAC</td>\n",
              "      <td>AGÊNCIA NACIONAL DE AVIAÇÃO CIVIL</td>\n",
              "    </tr>\n",
              "    <tr>\n",
              "      <th>6</th>\n",
              "      <td>45397</td>\n",
              "      <td>IG-536/CENIPA/2014 - 02</td>\n",
              "      <td>15/04/2016</td>\n",
              "      <td>17/05/2016</td>\n",
              "      <td>24/02/2017</td>\n",
              "      <td>Certificar-se de que o tempo limite para revis...</td>\n",
              "      <td>CUMPRIDA</td>\n",
              "      <td>ANAC</td>\n",
              "      <td>AGÊNCIA NACIONAL DE AVIAÇÃO CIVIL</td>\n",
              "    </tr>\n",
              "    <tr>\n",
              "      <th>7</th>\n",
              "      <td>45400</td>\n",
              "      <td>IG-544/CENIPA/2015 - 01</td>\n",
              "      <td>31/03/2017</td>\n",
              "      <td>31/03/2017</td>\n",
              "      <td>NaN</td>\n",
              "      <td>Assegurar-se que os pilotos que operam aeronav...</td>\n",
              "      <td>AGUARDANDO RESPOSTA</td>\n",
              "      <td>ANAC</td>\n",
              "      <td>AGÊNCIA NACIONAL DE AVIAÇÃO CIVIL</td>\n",
              "    </tr>\n",
              "    <tr>\n",
              "      <th>8</th>\n",
              "      <td>45400</td>\n",
              "      <td>IG-544/CENIPA/2015 - 02</td>\n",
              "      <td>31/03/2017</td>\n",
              "      <td>31/03/2017</td>\n",
              "      <td>NaN</td>\n",
              "      <td>Realizar gestões junto ao operador, a fim de a...</td>\n",
              "      <td>AGUARDANDO RESPOSTA</td>\n",
              "      <td>ANAC</td>\n",
              "      <td>AGÊNCIA NACIONAL DE AVIAÇÃO CIVIL</td>\n",
              "    </tr>\n",
              "    <tr>\n",
              "      <th>9</th>\n",
              "      <td>45400</td>\n",
              "      <td>IG-544/CENIPA/2015 - 03</td>\n",
              "      <td>31/03/2017</td>\n",
              "      <td>31/03/2017</td>\n",
              "      <td>NaN</td>\n",
              "      <td>Realizar gestões junto ao operador, a fim de g...</td>\n",
              "      <td>AGUARDANDO RESPOSTA</td>\n",
              "      <td>ANAC</td>\n",
              "      <td>AGÊNCIA NACIONAL DE AVIAÇÃO CIVIL</td>\n",
              "    </tr>\n",
              "  </tbody>\n",
              "</table>\n",
              "</div>\n",
              "      <button class=\"colab-df-convert\" onclick=\"convertToInteractive('df-ac7777e3-c092-40e4-9845-d27f9fc31da6')\"\n",
              "              title=\"Convert this dataframe to an interactive table.\"\n",
              "              style=\"display:none;\">\n",
              "        \n",
              "  <svg xmlns=\"http://www.w3.org/2000/svg\" height=\"24px\"viewBox=\"0 0 24 24\"\n",
              "       width=\"24px\">\n",
              "    <path d=\"M0 0h24v24H0V0z\" fill=\"none\"/>\n",
              "    <path d=\"M18.56 5.44l.94 2.06.94-2.06 2.06-.94-2.06-.94-.94-2.06-.94 2.06-2.06.94zm-11 1L8.5 8.5l.94-2.06 2.06-.94-2.06-.94L8.5 2.5l-.94 2.06-2.06.94zm10 10l.94 2.06.94-2.06 2.06-.94-2.06-.94-.94-2.06-.94 2.06-2.06.94z\"/><path d=\"M17.41 7.96l-1.37-1.37c-.4-.4-.92-.59-1.43-.59-.52 0-1.04.2-1.43.59L10.3 9.45l-7.72 7.72c-.78.78-.78 2.05 0 2.83L4 21.41c.39.39.9.59 1.41.59.51 0 1.02-.2 1.41-.59l7.78-7.78 2.81-2.81c.8-.78.8-2.07 0-2.86zM5.41 20L4 18.59l7.72-7.72 1.47 1.35L5.41 20z\"/>\n",
              "  </svg>\n",
              "      </button>\n",
              "      \n",
              "  <style>\n",
              "    .colab-df-container {\n",
              "      display:flex;\n",
              "      flex-wrap:wrap;\n",
              "      gap: 12px;\n",
              "    }\n",
              "\n",
              "    .colab-df-convert {\n",
              "      background-color: #E8F0FE;\n",
              "      border: none;\n",
              "      border-radius: 50%;\n",
              "      cursor: pointer;\n",
              "      display: none;\n",
              "      fill: #1967D2;\n",
              "      height: 32px;\n",
              "      padding: 0 0 0 0;\n",
              "      width: 32px;\n",
              "    }\n",
              "\n",
              "    .colab-df-convert:hover {\n",
              "      background-color: #E2EBFA;\n",
              "      box-shadow: 0px 1px 2px rgba(60, 64, 67, 0.3), 0px 1px 3px 1px rgba(60, 64, 67, 0.15);\n",
              "      fill: #174EA6;\n",
              "    }\n",
              "\n",
              "    [theme=dark] .colab-df-convert {\n",
              "      background-color: #3B4455;\n",
              "      fill: #D2E3FC;\n",
              "    }\n",
              "\n",
              "    [theme=dark] .colab-df-convert:hover {\n",
              "      background-color: #434B5C;\n",
              "      box-shadow: 0px 1px 3px 1px rgba(0, 0, 0, 0.15);\n",
              "      filter: drop-shadow(0px 1px 2px rgba(0, 0, 0, 0.3));\n",
              "      fill: #FFFFFF;\n",
              "    }\n",
              "  </style>\n",
              "\n",
              "      <script>\n",
              "        const buttonEl =\n",
              "          document.querySelector('#df-ac7777e3-c092-40e4-9845-d27f9fc31da6 button.colab-df-convert');\n",
              "        buttonEl.style.display =\n",
              "          google.colab.kernel.accessAllowed ? 'block' : 'none';\n",
              "\n",
              "        async function convertToInteractive(key) {\n",
              "          const element = document.querySelector('#df-ac7777e3-c092-40e4-9845-d27f9fc31da6');\n",
              "          const dataTable =\n",
              "            await google.colab.kernel.invokeFunction('convertToInteractive',\n",
              "                                                     [key], {});\n",
              "          if (!dataTable) return;\n",
              "\n",
              "          const docLinkHtml = 'Like what you see? Visit the ' +\n",
              "            '<a target=\"_blank\" href=https://colab.research.google.com/notebooks/data_table.ipynb>data table notebook</a>'\n",
              "            + ' to learn more about interactive tables.';\n",
              "          element.innerHTML = '';\n",
              "          dataTable['output_type'] = 'display_data';\n",
              "          await google.colab.output.renderOutput(dataTable, element);\n",
              "          const docLink = document.createElement('div');\n",
              "          docLink.innerHTML = docLinkHtml;\n",
              "          element.appendChild(docLink);\n",
              "        }\n",
              "      </script>\n",
              "    </div>\n",
              "  </div>\n",
              "  "
            ]
          },
          "metadata": {},
          "execution_count": 9
        }
      ]
    },
    {
      "cell_type": "markdown",
      "source": [
        "Exibir os tipos de dados dos objetos"
      ],
      "metadata": {
        "id": "hIDtMx1Mgp5J"
      }
    },
    {
      "cell_type": "code",
      "source": [
        "df.dtypes"
      ],
      "metadata": {
        "colab": {
          "base_uri": "https://localhost:8080/"
        },
        "id": "8CDemDrwgocy",
        "outputId": "a3da6047-c178-4b5f-924c-874a4a13775f"
      },
      "execution_count": 10,
      "outputs": [
        {
          "output_type": "execute_result",
          "data": {
            "text/plain": [
              "codigo_ocorrencia4                  int64\n",
              "recomendacao_numero                object\n",
              "recomendacao_dia_assinatura        object\n",
              "recomendacao_dia_encaminhamento    object\n",
              "recomendacao_dia_feedback          object\n",
              "recomendacao_conteudo              object\n",
              "recomendacao_status                object\n",
              "recomendacao_destinatario_sigla    object\n",
              "recomendacao_destinatario          object\n",
              "dtype: object"
            ]
          },
          "metadata": {},
          "execution_count": 10
        }
      ]
    },
    {
      "cell_type": "markdown",
      "source": [
        "Até esse trecho foi realizado o carregamento de dados com a conversão das colunas que contém datas para o tipo de dado \"date\" com o método \"parse\"."
      ],
      "metadata": {
        "id": "ww7eHVIYhGxi"
      }
    },
    {
      "cell_type": "code",
      "source": [
        "df.replace(['***','**','####','###!','****','*****','NULL'], pd.NA, inplace=True)"
      ],
      "metadata": {
        "id": "xfzYDrbiqfYf"
      },
      "execution_count": 11,
      "outputs": []
    },
    {
      "cell_type": "code",
      "source": [
        "schema = pa.DataFrameSchema(\n",
        "    columns = {\n",
        "        \"codigo_ocorrencia4\":pa.Column(pa.Int),\n",
        "        \"recomendacao_numero\":pa.Column(pa.String),\n",
        "        \"recomendacao_dia_assinatura\":pa.Column((pa.String),nullable=True),\n",
        "        \"recomendacao_dia_encaminhamento\":pa.Column((pa.String),nullable=True),\n",
        "        \"recomendacao_dia_feedback\":pa.Column((pa.String),nullable=True),\n",
        "        \"recomendacao_conteudo\":pa.Column((pa.String),nullable=True),\n",
        "        \"recomendacao_status\":pa.Column((pa.String),nullable=True),\n",
        "        \"recomendacao_destinatario_sigla\":pa.Column((pa.String),nullable=True),\n",
        "        \"recomendacao_destinatario\":pa.Column((pa.String),nullable=True)\n",
        "    }\n",
        ")"
      ],
      "metadata": {
        "id": "YD6-qKwohIM8"
      },
      "execution_count": 12,
      "outputs": []
    },
    {
      "cell_type": "code",
      "source": [
        "df.isnull().sum()"
      ],
      "metadata": {
        "colab": {
          "base_uri": "https://localhost:8080/"
        },
        "id": "biSu7dFPrSJ3",
        "outputId": "8e246e2f-9c74-494b-e483-6295b060724a"
      },
      "execution_count": 13,
      "outputs": [
        {
          "output_type": "execute_result",
          "data": {
            "text/plain": [
              "codigo_ocorrencia4                   0\n",
              "recomendacao_numero                  0\n",
              "recomendacao_dia_assinatura          0\n",
              "recomendacao_dia_encaminhamento      0\n",
              "recomendacao_dia_feedback          432\n",
              "recomendacao_conteudo                2\n",
              "recomendacao_status                  7\n",
              "recomendacao_destinatario_sigla      0\n",
              "recomendacao_destinatario            0\n",
              "dtype: int64"
            ]
          },
          "metadata": {},
          "execution_count": 13
        }
      ]
    },
    {
      "cell_type": "markdown",
      "source": [
        "##Validação do Schema"
      ],
      "metadata": {
        "id": "TezA_g32pRbR"
      }
    },
    {
      "cell_type": "code",
      "source": [
        "schema.validate(df)"
      ],
      "metadata": {
        "colab": {
          "base_uri": "https://localhost:8080/",
          "height": 731
        },
        "id": "Tndi1ZY_pPiR",
        "outputId": "583c032e-3752-450e-b220-76b47feb6963"
      },
      "execution_count": 14,
      "outputs": [
        {
          "output_type": "execute_result",
          "data": {
            "text/plain": [
              "      codigo_ocorrencia4          recomendacao_numero  \\\n",
              "0                  45331       A-582/CENIPA/2014 - 01   \n",
              "1                  45331       A-582/CENIPA/2014 - 02   \n",
              "2                  45331       A-582/CENIPA/2014 - 03   \n",
              "3                  45392  A-032/CENIPA/2014 - RSV 001   \n",
              "4                  45392  A-032/CENIPA/2014 - RSV 002   \n",
              "...                  ...                          ...   \n",
              "1192               79713       A-146/CENIPA/2020 - 02   \n",
              "1193               79713       A-146/CENIPA/2020 - 03   \n",
              "1194               80073       A-063/CENIPA/2021 - 01   \n",
              "1195               80073       A-063/CENIPA/2021 - 02   \n",
              "1196               80258       A-137/CENIPA/2019 - 01   \n",
              "\n",
              "     recomendacao_dia_assinatura recomendacao_dia_encaminhamento  \\\n",
              "0                     29/07/2016                      25/08/2016   \n",
              "1                     29/07/2016                      25/08/2016   \n",
              "2                     29/07/2016                      25/08/2016   \n",
              "3                     07/04/2014                      14/04/2015   \n",
              "4                     07/04/2014                      14/04/2015   \n",
              "...                          ...                             ...   \n",
              "1192                  08/07/2021                      26/07/2021   \n",
              "1193                  08/07/2021                      26/07/2021   \n",
              "1194                  12/11/2021                      19/11/2021   \n",
              "1195                  12/11/2021                      19/11/2021   \n",
              "1196                  16/11/2021                      22/12/2021   \n",
              "\n",
              "     recomendacao_dia_feedback  \\\n",
              "0                   20/12/2016   \n",
              "1                   20/12/2016   \n",
              "2                          NaN   \n",
              "3                   21/08/2015   \n",
              "4                   17/08/2015   \n",
              "...                        ...   \n",
              "1192                       NaN   \n",
              "1193                       NaN   \n",
              "1194                       NaN   \n",
              "1195                       NaN   \n",
              "1196                       NaN   \n",
              "\n",
              "                                  recomendacao_conteudo  \\\n",
              "0     Atuar junto às empresas que operam segundo o R...   \n",
              "1     Atuar junto à Administração do Aeroporto Inter...   \n",
              "2     Orientar as suas organizações subordinadas em ...   \n",
              "3     Divulgar aos operadores de helicópteros vincul...   \n",
              "4     Tendo em vista os fatos levantados nesta inves...   \n",
              "...                                                 ...   \n",
              "1192  Atuar junto à empresa Plá e Silva Aviação Agrí...   \n",
              "1193  Divulgar os ensinamentos colhidos na presente ...   \n",
              "1194  Divulgar os ensinamentos colhidos nesta invest...   \n",
              "1195  Divulgar os ensinamentos colhidos nesta invest...   \n",
              "1196  Atuar junto ao operador do Aeródromo de Tangar...   \n",
              "\n",
              "                recomendacao_status recomendacao_destinatario_sigla  \\\n",
              "0                          CUMPRIDA                            ANAC   \n",
              "1                          CUMPRIDA                            ANAC   \n",
              "2               AGUARDANDO RESPOSTA                           DECEA   \n",
              "3     CUMPRIDA DE FORMA ALTERNATIVA                            ANAC   \n",
              "4                      NÃO CUMPRIDA                            ANAC   \n",
              "...                             ...                             ...   \n",
              "1192            AGUARDANDO RESPOSTA                            ANAC   \n",
              "1193            AGUARDANDO RESPOSTA                            ANAC   \n",
              "1194            AGUARDANDO RESPOSTA                            ANAC   \n",
              "1195            AGUARDANDO RESPOSTA                            ANAC   \n",
              "1196            AGUARDANDO RESPOSTA                            ANAC   \n",
              "\n",
              "                     recomendacao_destinatario  \n",
              "0            AGÊNCIA NACIONAL DE AVIAÇÃO CIVIL  \n",
              "1            AGÊNCIA NACIONAL DE AVIAÇÃO CIVIL  \n",
              "2     DEPARTAMENTO DE CONTROLE DE ESPAÇO AÉREO  \n",
              "3            AGÊNCIA NACIONAL DE AVIAÇÃO CIVIL  \n",
              "4            AGÊNCIA NACIONAL DE AVIAÇÃO CIVIL  \n",
              "...                                        ...  \n",
              "1192         AGÊNCIA NACIONAL DE AVIAÇÃO CIVIL  \n",
              "1193         AGÊNCIA NACIONAL DE AVIAÇÃO CIVIL  \n",
              "1194         AGÊNCIA NACIONAL DE AVIAÇÃO CIVIL  \n",
              "1195         AGÊNCIA NACIONAL DE AVIAÇÃO CIVIL  \n",
              "1196         AGÊNCIA NACIONAL DE AVIAÇÃO CIVIL  \n",
              "\n",
              "[1197 rows x 9 columns]"
            ],
            "text/html": [
              "\n",
              "  <div id=\"df-90ef1c78-3753-4bf8-9953-8b79c1c71c53\">\n",
              "    <div class=\"colab-df-container\">\n",
              "      <div>\n",
              "<style scoped>\n",
              "    .dataframe tbody tr th:only-of-type {\n",
              "        vertical-align: middle;\n",
              "    }\n",
              "\n",
              "    .dataframe tbody tr th {\n",
              "        vertical-align: top;\n",
              "    }\n",
              "\n",
              "    .dataframe thead th {\n",
              "        text-align: right;\n",
              "    }\n",
              "</style>\n",
              "<table border=\"1\" class=\"dataframe\">\n",
              "  <thead>\n",
              "    <tr style=\"text-align: right;\">\n",
              "      <th></th>\n",
              "      <th>codigo_ocorrencia4</th>\n",
              "      <th>recomendacao_numero</th>\n",
              "      <th>recomendacao_dia_assinatura</th>\n",
              "      <th>recomendacao_dia_encaminhamento</th>\n",
              "      <th>recomendacao_dia_feedback</th>\n",
              "      <th>recomendacao_conteudo</th>\n",
              "      <th>recomendacao_status</th>\n",
              "      <th>recomendacao_destinatario_sigla</th>\n",
              "      <th>recomendacao_destinatario</th>\n",
              "    </tr>\n",
              "  </thead>\n",
              "  <tbody>\n",
              "    <tr>\n",
              "      <th>0</th>\n",
              "      <td>45331</td>\n",
              "      <td>A-582/CENIPA/2014 - 01</td>\n",
              "      <td>29/07/2016</td>\n",
              "      <td>25/08/2016</td>\n",
              "      <td>20/12/2016</td>\n",
              "      <td>Atuar junto às empresas que operam segundo o R...</td>\n",
              "      <td>CUMPRIDA</td>\n",
              "      <td>ANAC</td>\n",
              "      <td>AGÊNCIA NACIONAL DE AVIAÇÃO CIVIL</td>\n",
              "    </tr>\n",
              "    <tr>\n",
              "      <th>1</th>\n",
              "      <td>45331</td>\n",
              "      <td>A-582/CENIPA/2014 - 02</td>\n",
              "      <td>29/07/2016</td>\n",
              "      <td>25/08/2016</td>\n",
              "      <td>20/12/2016</td>\n",
              "      <td>Atuar junto à Administração do Aeroporto Inter...</td>\n",
              "      <td>CUMPRIDA</td>\n",
              "      <td>ANAC</td>\n",
              "      <td>AGÊNCIA NACIONAL DE AVIAÇÃO CIVIL</td>\n",
              "    </tr>\n",
              "    <tr>\n",
              "      <th>2</th>\n",
              "      <td>45331</td>\n",
              "      <td>A-582/CENIPA/2014 - 03</td>\n",
              "      <td>29/07/2016</td>\n",
              "      <td>25/08/2016</td>\n",
              "      <td>NaN</td>\n",
              "      <td>Orientar as suas organizações subordinadas em ...</td>\n",
              "      <td>AGUARDANDO RESPOSTA</td>\n",
              "      <td>DECEA</td>\n",
              "      <td>DEPARTAMENTO DE CONTROLE DE ESPAÇO AÉREO</td>\n",
              "    </tr>\n",
              "    <tr>\n",
              "      <th>3</th>\n",
              "      <td>45392</td>\n",
              "      <td>A-032/CENIPA/2014 - RSV 001</td>\n",
              "      <td>07/04/2014</td>\n",
              "      <td>14/04/2015</td>\n",
              "      <td>21/08/2015</td>\n",
              "      <td>Divulgar aos operadores de helicópteros vincul...</td>\n",
              "      <td>CUMPRIDA DE FORMA ALTERNATIVA</td>\n",
              "      <td>ANAC</td>\n",
              "      <td>AGÊNCIA NACIONAL DE AVIAÇÃO CIVIL</td>\n",
              "    </tr>\n",
              "    <tr>\n",
              "      <th>4</th>\n",
              "      <td>45392</td>\n",
              "      <td>A-032/CENIPA/2014 - RSV 002</td>\n",
              "      <td>07/04/2014</td>\n",
              "      <td>14/04/2015</td>\n",
              "      <td>17/08/2015</td>\n",
              "      <td>Tendo em vista os fatos levantados nesta inves...</td>\n",
              "      <td>NÃO CUMPRIDA</td>\n",
              "      <td>ANAC</td>\n",
              "      <td>AGÊNCIA NACIONAL DE AVIAÇÃO CIVIL</td>\n",
              "    </tr>\n",
              "    <tr>\n",
              "      <th>...</th>\n",
              "      <td>...</td>\n",
              "      <td>...</td>\n",
              "      <td>...</td>\n",
              "      <td>...</td>\n",
              "      <td>...</td>\n",
              "      <td>...</td>\n",
              "      <td>...</td>\n",
              "      <td>...</td>\n",
              "      <td>...</td>\n",
              "    </tr>\n",
              "    <tr>\n",
              "      <th>1192</th>\n",
              "      <td>79713</td>\n",
              "      <td>A-146/CENIPA/2020 - 02</td>\n",
              "      <td>08/07/2021</td>\n",
              "      <td>26/07/2021</td>\n",
              "      <td>NaN</td>\n",
              "      <td>Atuar junto à empresa Plá e Silva Aviação Agrí...</td>\n",
              "      <td>AGUARDANDO RESPOSTA</td>\n",
              "      <td>ANAC</td>\n",
              "      <td>AGÊNCIA NACIONAL DE AVIAÇÃO CIVIL</td>\n",
              "    </tr>\n",
              "    <tr>\n",
              "      <th>1193</th>\n",
              "      <td>79713</td>\n",
              "      <td>A-146/CENIPA/2020 - 03</td>\n",
              "      <td>08/07/2021</td>\n",
              "      <td>26/07/2021</td>\n",
              "      <td>NaN</td>\n",
              "      <td>Divulgar os ensinamentos colhidos na presente ...</td>\n",
              "      <td>AGUARDANDO RESPOSTA</td>\n",
              "      <td>ANAC</td>\n",
              "      <td>AGÊNCIA NACIONAL DE AVIAÇÃO CIVIL</td>\n",
              "    </tr>\n",
              "    <tr>\n",
              "      <th>1194</th>\n",
              "      <td>80073</td>\n",
              "      <td>A-063/CENIPA/2021 - 01</td>\n",
              "      <td>12/11/2021</td>\n",
              "      <td>19/11/2021</td>\n",
              "      <td>NaN</td>\n",
              "      <td>Divulgar os ensinamentos colhidos nesta invest...</td>\n",
              "      <td>AGUARDANDO RESPOSTA</td>\n",
              "      <td>ANAC</td>\n",
              "      <td>AGÊNCIA NACIONAL DE AVIAÇÃO CIVIL</td>\n",
              "    </tr>\n",
              "    <tr>\n",
              "      <th>1195</th>\n",
              "      <td>80073</td>\n",
              "      <td>A-063/CENIPA/2021 - 02</td>\n",
              "      <td>12/11/2021</td>\n",
              "      <td>19/11/2021</td>\n",
              "      <td>NaN</td>\n",
              "      <td>Divulgar os ensinamentos colhidos nesta invest...</td>\n",
              "      <td>AGUARDANDO RESPOSTA</td>\n",
              "      <td>ANAC</td>\n",
              "      <td>AGÊNCIA NACIONAL DE AVIAÇÃO CIVIL</td>\n",
              "    </tr>\n",
              "    <tr>\n",
              "      <th>1196</th>\n",
              "      <td>80258</td>\n",
              "      <td>A-137/CENIPA/2019 - 01</td>\n",
              "      <td>16/11/2021</td>\n",
              "      <td>22/12/2021</td>\n",
              "      <td>NaN</td>\n",
              "      <td>Atuar junto ao operador do Aeródromo de Tangar...</td>\n",
              "      <td>AGUARDANDO RESPOSTA</td>\n",
              "      <td>ANAC</td>\n",
              "      <td>AGÊNCIA NACIONAL DE AVIAÇÃO CIVIL</td>\n",
              "    </tr>\n",
              "  </tbody>\n",
              "</table>\n",
              "<p>1197 rows × 9 columns</p>\n",
              "</div>\n",
              "      <button class=\"colab-df-convert\" onclick=\"convertToInteractive('df-90ef1c78-3753-4bf8-9953-8b79c1c71c53')\"\n",
              "              title=\"Convert this dataframe to an interactive table.\"\n",
              "              style=\"display:none;\">\n",
              "        \n",
              "  <svg xmlns=\"http://www.w3.org/2000/svg\" height=\"24px\"viewBox=\"0 0 24 24\"\n",
              "       width=\"24px\">\n",
              "    <path d=\"M0 0h24v24H0V0z\" fill=\"none\"/>\n",
              "    <path d=\"M18.56 5.44l.94 2.06.94-2.06 2.06-.94-2.06-.94-.94-2.06-.94 2.06-2.06.94zm-11 1L8.5 8.5l.94-2.06 2.06-.94-2.06-.94L8.5 2.5l-.94 2.06-2.06.94zm10 10l.94 2.06.94-2.06 2.06-.94-2.06-.94-.94-2.06-.94 2.06-2.06.94z\"/><path d=\"M17.41 7.96l-1.37-1.37c-.4-.4-.92-.59-1.43-.59-.52 0-1.04.2-1.43.59L10.3 9.45l-7.72 7.72c-.78.78-.78 2.05 0 2.83L4 21.41c.39.39.9.59 1.41.59.51 0 1.02-.2 1.41-.59l7.78-7.78 2.81-2.81c.8-.78.8-2.07 0-2.86zM5.41 20L4 18.59l7.72-7.72 1.47 1.35L5.41 20z\"/>\n",
              "  </svg>\n",
              "      </button>\n",
              "      \n",
              "  <style>\n",
              "    .colab-df-container {\n",
              "      display:flex;\n",
              "      flex-wrap:wrap;\n",
              "      gap: 12px;\n",
              "    }\n",
              "\n",
              "    .colab-df-convert {\n",
              "      background-color: #E8F0FE;\n",
              "      border: none;\n",
              "      border-radius: 50%;\n",
              "      cursor: pointer;\n",
              "      display: none;\n",
              "      fill: #1967D2;\n",
              "      height: 32px;\n",
              "      padding: 0 0 0 0;\n",
              "      width: 32px;\n",
              "    }\n",
              "\n",
              "    .colab-df-convert:hover {\n",
              "      background-color: #E2EBFA;\n",
              "      box-shadow: 0px 1px 2px rgba(60, 64, 67, 0.3), 0px 1px 3px 1px rgba(60, 64, 67, 0.15);\n",
              "      fill: #174EA6;\n",
              "    }\n",
              "\n",
              "    [theme=dark] .colab-df-convert {\n",
              "      background-color: #3B4455;\n",
              "      fill: #D2E3FC;\n",
              "    }\n",
              "\n",
              "    [theme=dark] .colab-df-convert:hover {\n",
              "      background-color: #434B5C;\n",
              "      box-shadow: 0px 1px 3px 1px rgba(0, 0, 0, 0.15);\n",
              "      filter: drop-shadow(0px 1px 2px rgba(0, 0, 0, 0.3));\n",
              "      fill: #FFFFFF;\n",
              "    }\n",
              "  </style>\n",
              "\n",
              "      <script>\n",
              "        const buttonEl =\n",
              "          document.querySelector('#df-90ef1c78-3753-4bf8-9953-8b79c1c71c53 button.colab-df-convert');\n",
              "        buttonEl.style.display =\n",
              "          google.colab.kernel.accessAllowed ? 'block' : 'none';\n",
              "\n",
              "        async function convertToInteractive(key) {\n",
              "          const element = document.querySelector('#df-90ef1c78-3753-4bf8-9953-8b79c1c71c53');\n",
              "          const dataTable =\n",
              "            await google.colab.kernel.invokeFunction('convertToInteractive',\n",
              "                                                     [key], {});\n",
              "          if (!dataTable) return;\n",
              "\n",
              "          const docLinkHtml = 'Like what you see? Visit the ' +\n",
              "            '<a target=\"_blank\" href=https://colab.research.google.com/notebooks/data_table.ipynb>data table notebook</a>'\n",
              "            + ' to learn more about interactive tables.';\n",
              "          element.innerHTML = '';\n",
              "          dataTable['output_type'] = 'display_data';\n",
              "          await google.colab.output.renderOutput(dataTable, element);\n",
              "          const docLink = document.createElement('div');\n",
              "          docLink.innerHTML = docLinkHtml;\n",
              "          element.appendChild(docLink);\n",
              "        }\n",
              "      </script>\n",
              "    </div>\n",
              "  </div>\n",
              "  "
            ]
          },
          "metadata": {},
          "execution_count": 14
        }
      ]
    },
    {
      "cell_type": "markdown",
      "source": [
        "##Checando se o valor da coluna \"codigo ocorrência\" são únicos."
      ],
      "metadata": {
        "id": "X5n76pLOtRra"
      }
    },
    {
      "cell_type": "code",
      "source": [
        "df.codigo_ocorrencia4.is_unique"
      ],
      "metadata": {
        "colab": {
          "base_uri": "https://localhost:8080/"
        },
        "id": "Y2TLWdohtPGr",
        "outputId": "0d2f8797-911b-4296-d47f-66be81c07b49"
      },
      "execution_count": 15,
      "outputs": [
        {
          "output_type": "execute_result",
          "data": {
            "text/plain": [
              "False"
            ]
          },
          "metadata": {},
          "execution_count": 15
        }
      ]
    },
    {
      "cell_type": "markdown",
      "source": [
        "Definindo \"codigo da ocorrência\" como indice"
      ],
      "metadata": {
        "id": "ljBNuJrftYrR"
      }
    },
    {
      "cell_type": "code",
      "source": [
        "df.set_index('codigo_ocorrencia4', inplace=True)"
      ],
      "metadata": {
        "id": "lOmE0Sa2tWp9"
      },
      "execution_count": 16,
      "outputs": []
    },
    {
      "cell_type": "markdown",
      "source": [
        "Consultar quantos NA tem no dataframe"
      ],
      "metadata": {
        "id": "HM2nUZNUtitO"
      }
    },
    {
      "cell_type": "code",
      "source": [
        "df.isna().sum()"
      ],
      "metadata": {
        "colab": {
          "base_uri": "https://localhost:8080/"
        },
        "id": "Vf2Ez_xRthEA",
        "outputId": "a6feecb6-2e73-4060-ebcb-e4de25407700"
      },
      "execution_count": 17,
      "outputs": [
        {
          "output_type": "execute_result",
          "data": {
            "text/plain": [
              "recomendacao_numero                  0\n",
              "recomendacao_dia_assinatura          0\n",
              "recomendacao_dia_encaminhamento      0\n",
              "recomendacao_dia_feedback          432\n",
              "recomendacao_conteudo                2\n",
              "recomendacao_status                  7\n",
              "recomendacao_destinatario_sigla      0\n",
              "recomendacao_destinatario            0\n",
              "dtype: int64"
            ]
          },
          "metadata": {},
          "execution_count": 17
        }
      ]
    },
    {
      "cell_type": "code",
      "source": [
        "df.isnull().sum()"
      ],
      "metadata": {
        "colab": {
          "base_uri": "https://localhost:8080/"
        },
        "id": "rC48hy6RtqQT",
        "outputId": "80926e6b-f5c1-448c-c383-c4aade4957fa"
      },
      "execution_count": 18,
      "outputs": [
        {
          "output_type": "execute_result",
          "data": {
            "text/plain": [
              "recomendacao_numero                  0\n",
              "recomendacao_dia_assinatura          0\n",
              "recomendacao_dia_encaminhamento      0\n",
              "recomendacao_dia_feedback          432\n",
              "recomendacao_conteudo                2\n",
              "recomendacao_status                  7\n",
              "recomendacao_destinatario_sigla      0\n",
              "recomendacao_destinatario            0\n",
              "dtype: int64"
            ]
          },
          "metadata": {},
          "execution_count": 18
        }
      ]
    }
  ]
}